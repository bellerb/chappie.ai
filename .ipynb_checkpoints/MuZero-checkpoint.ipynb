{
 "cells": [
  {
   "cell_type": "code",
   "execution_count": 1,
   "metadata": {},
   "outputs": [
    {
     "name": "stdout",
     "output_type": "stream",
     "text": [
      "legal [6, 0, 5, 0]\n",
      "legal [6, 0, 4, 0]\n",
      "legal [6, 1, 5, 1]\n",
      "legal [6, 1, 4, 1]\n",
      "legal [6, 2, 5, 2]\n",
      "legal [6, 2, 4, 2]\n",
      "legal [6, 3, 5, 3]\n",
      "legal [6, 3, 4, 3]\n",
      "legal [6, 4, 5, 4]\n",
      "legal [6, 4, 4, 4]\n",
      "legal [6, 5, 5, 5]\n",
      "legal [6, 5, 4, 5]\n",
      "legal [6, 6, 5, 6]\n",
      "legal [6, 6, 4, 6]\n",
      "legal [6, 7, 5, 7]\n",
      "legal [6, 7, 4, 7]\n",
      "legal [7, 1, 5, 0]\n",
      "legal [7, 1, 5, 2]\n",
      "legal [7, 6, 5, 5]\n",
      "legal [7, 6, 5, 7]\n",
      "[0.04166667 0.04166667 0.04166667 0.04166667 0.04166667 0.04166667\n",
      " 0.04166667 0.04166667 0.04166667 0.04166667 0.04166667 0.04166667\n",
      " 0.04166667 0.04166667 0.04166667 0.04166667 0.04166667 0.04166667\n",
      " 0.04166667 0.04166667 0.04166667 0.04166667 0.04166667 0.04166667]\n",
      "4096\n",
      "[1. 1. 1. 1. 1. 1. 1. 1. 1. 1. 1. 1. 1. 1. 1. 1. 1. 1. 1. 1.]\n",
      "4096\n",
      "[]\n",
      "(array([], dtype=int64),)\n",
      "0.0\n",
      "3340\n",
      "0.0\n",
      "e2-->e7\n",
      "Invalid move\n"
     ]
    },
    {
     "ename": "NameError",
     "evalue": "name 'a' is not defined",
     "output_type": "error",
     "traceback": [
      "\u001b[0;31m---------------------------------------------------------------------------\u001b[0m",
      "\u001b[0;31mNameError\u001b[0m                                 Traceback (most recent call last)",
      "\u001b[0;32m<ipython-input-1-b6c3971be24b>\u001b[0m in \u001b[0;36m<module>\u001b[0;34m\u001b[0m\n\u001b[1;32m      7\u001b[0m     players = [\n\u001b[1;32m      8\u001b[0m         \u001b[0;34m'gym/chess/data/active_param.json'\u001b[0m\u001b[0;34m,\u001b[0m\u001b[0;34m\u001b[0m\u001b[0;34m\u001b[0m\u001b[0m\n\u001b[0;32m----> 9\u001b[0;31m         \u001b[0;34m'human'\u001b[0m\u001b[0;34m\u001b[0m\u001b[0;34m\u001b[0m\u001b[0m\n\u001b[0m\u001b[1;32m     10\u001b[0m     ]\n\u001b[1;32m     11\u001b[0m )\n",
      "\u001b[0;32m~/Documents/GitHub/chapie.ai/gym/chess/train_chess.py\u001b[0m in \u001b[0;36mplay_game\u001b[0;34m(self, game_name, epoch, players)\u001b[0m\n\u001b[1;32m    112\u001b[0m                     \u001b[0;32mif\u001b[0m \u001b[0mchess_game\u001b[0m\u001b[0;34m.\u001b[0m\u001b[0mmove\u001b[0m\u001b[0;34m(\u001b[0m\u001b[0mcur\u001b[0m\u001b[0;34m,\u001b[0m\u001b[0mnext\u001b[0m\u001b[0;34m)\u001b[0m \u001b[0;34m==\u001b[0m \u001b[0;32mFalse\u001b[0m\u001b[0;34m:\u001b[0m\u001b[0;34m\u001b[0m\u001b[0;34m\u001b[0m\u001b[0m\n\u001b[1;32m    113\u001b[0m                         \u001b[0mprint\u001b[0m\u001b[0;34m(\u001b[0m\u001b[0;34m'Invalid move'\u001b[0m\u001b[0;34m)\u001b[0m\u001b[0;34m\u001b[0m\u001b[0;34m\u001b[0m\u001b[0m\n\u001b[0;32m--> 114\u001b[0;31m                         \u001b[0ma\u001b[0m\u001b[0;34m[\u001b[0m\u001b[0mb_a\u001b[0m\u001b[0;34m]\u001b[0m \u001b[0;34m=\u001b[0m \u001b[0mfloat\u001b[0m\u001b[0;34m(\u001b[0m\u001b[0;34m'-inf'\u001b[0m\u001b[0;34m)\u001b[0m\u001b[0;34m\u001b[0m\u001b[0;34m\u001b[0m\u001b[0m\n\u001b[0m\u001b[1;32m    115\u001b[0m                     \u001b[0;32melse\u001b[0m\u001b[0;34m:\u001b[0m\u001b[0;34m\u001b[0m\u001b[0;34m\u001b[0m\u001b[0m\n\u001b[1;32m    116\u001b[0m                         \u001b[0mvalid\u001b[0m \u001b[0;34m=\u001b[0m \u001b[0;32mTrue\u001b[0m\u001b[0;34m\u001b[0m\u001b[0;34m\u001b[0m\u001b[0m\n",
      "\u001b[0;31mNameError\u001b[0m: name 'a' is not defined"
     ]
    }
   ],
   "source": [
    "from gym.chess.train_chess import chess\n",
    "\n",
    "chess = chess(train = True)\n",
    "chess.play_game(\n",
    "    'TEST', \n",
    "    0, \n",
    "    players = [\n",
    "        'gym/chess/data/active_param.json',\n",
    "        'human'\n",
    "    ]\n",
    ")"
   ]
  },
  {
   "cell_type": "code",
   "execution_count": null,
   "metadata": {},
   "outputs": [],
   "source": [
    "import numpy as np\n",
    "from ai.bot import Agent\n",
    "\n",
    "param_path = 'gym/chess/data/active_param.json'\n",
    "\n",
    "bot = Agent(param_name = param_path, train = True)\n",
    "\n",
    "s = np.random.rand(3,2)\n",
    "\n",
    "print(bot.choose_action(s))"
   ]
  },
  {
   "cell_type": "code",
   "execution_count": null,
   "metadata": {},
   "outputs": [],
   "source": []
  }
 ],
 "metadata": {
  "kernelspec": {
   "display_name": "Python 3",
   "language": "python",
   "name": "python3"
  },
  "language_info": {
   "codemirror_mode": {
    "name": "ipython",
    "version": 3
   },
   "file_extension": ".py",
   "mimetype": "text/x-python",
   "name": "python",
   "nbconvert_exporter": "python",
   "pygments_lexer": "ipython3",
   "version": "3.7.9"
  }
 },
 "nbformat": 4,
 "nbformat_minor": 4
}
