{
 "cells": [
  {
   "cell_type": "code",
   "execution_count": 19,
   "id": "critical-dinner",
   "metadata": {},
   "outputs": [
    {
     "name": "stdout",
     "output_type": "stream",
     "text": [
      "[(0, 2, 5, 6)]\n"
     ]
    }
   ],
   "source": [
    "import numpy as np\n",
    "\n",
    "a = 174\n",
    "a_map = np.zeros(4096)\n",
    "a_map[a] = 1\n",
    "a_map = a_map.reshape((8,8,8,8))\n",
    "a_index = [(cy, cx, ny, nx) for cy, cx, ny, nx in zip(*np.where(a_map == 1))]\n",
    "cur, next \n",
    "print(a_index)"
   ]
  },
  {
   "cell_type": "code",
   "execution_count": null,
   "id": "gentle-rhythm",
   "metadata": {},
   "outputs": [],
   "source": []
  }
 ],
 "metadata": {
  "kernelspec": {
   "display_name": "Python 3",
   "language": "python",
   "name": "python3"
  },
  "language_info": {
   "codemirror_mode": {
    "name": "ipython",
    "version": 3
   },
   "file_extension": ".py",
   "mimetype": "text/x-python",
   "name": "python",
   "nbconvert_exporter": "python",
   "pygments_lexer": "ipython3",
   "version": "3.7.9"
  }
 },
 "nbformat": 4,
 "nbformat_minor": 5
}
