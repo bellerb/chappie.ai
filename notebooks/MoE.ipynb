{
 "cells": [
  {
   "cell_type": "markdown",
   "metadata": {},
   "source": [
    "# Mixture of Experts (MoE)"
   ]
  },
  {
   "cell_type": "code",
   "execution_count": 1,
   "metadata": {},
   "outputs": [
    {
     "name": "stdout",
     "output_type": "stream",
     "text": [
      "tensor([[0.6499, 0.6035, 0.2683],\n",
      "        [0.0190, 0.7235, 0.1508]])\n"
     ]
    }
   ],
   "source": [
    "import torch\n",
    "from torch import nn\n",
    "from einops import rearrange, reduce\n",
    "\n",
    "x = torch.rand(2,3)\n",
    "print(x)"
   ]
  },
  {
   "cell_type": "code",
   "execution_count": 2,
   "metadata": {},
   "outputs": [],
   "source": [
    "class MLP(nn.Module):\n",
    "    def __init__(\n",
    "        self,\n",
    "        input_size,\n",
    "        layer_size = 64,\n",
    "        heads = 1,\n",
    "        dropout = 0.5,\n",
    "        bias = False\n",
    "    ):\n",
    "        super(MLP, self).__init__()\n",
    "        self.linear = nn.Sequential(\n",
    "            nn.Linear(\n",
    "                input_size,\n",
    "                layer_size,\n",
    "                bias = bias\n",
    "            ),\n",
    "            nn.Dropout(dropout)\n",
    "        )\n",
    "        self.GELU = torch.nn.GELU()\n",
    "\n",
    "    def forward(self, x):\n",
    "        z = self.linear(x)\n",
    "        z = nn.functional.normalize(z, dim=-1)\n",
    "        z = self.GELU(z)\n",
    "        return z"
   ]
  },
  {
   "cell_type": "code",
   "execution_count": 19,
   "metadata": {},
   "outputs": [],
   "source": [
    "class SparseGate(nn.Module):\n",
    "    def __init__(\n",
    "        self,\n",
    "        input_size,\n",
    "        expert_count,\n",
    "        hidden_layers=64,\n",
    "        k = 2,\n",
    "        dropout = 0.5\n",
    "    ):\n",
    "        super(SparseGate, self).__init__()\n",
    "        self.input = nn.Sequential(\n",
    "            nn.Linear(\n",
    "                input_size[-1],\n",
    "                hidden_layers,\n",
    "                bias = False\n",
    "            ),\n",
    "            nn.Dropout(dropout)\n",
    "        )\n",
    "        self.linear = nn.Sequential(\n",
    "            nn.Linear(\n",
    "                hidden_layers,\n",
    "                expert_count,\n",
    "                bias = False\n",
    "            ),\n",
    "            nn.Dropout(dropout)\n",
    "        )\n",
    "        self.output = nn.Sequential(\n",
    "            nn.Linear(\n",
    "                input_size[0],\n",
    "                1,\n",
    "                bias = False\n",
    "            ),\n",
    "            nn.Dropout(dropout)\n",
    "        )\n",
    "        self.softmax = torch.nn.Softmax(dim = -1)\n",
    "        self.k = k\n",
    "        \n",
    "    def forward(self, x):\n",
    "        x = self.input(x)\n",
    "        x = self.linear(x)\n",
    "        x = self.output(x.T)\n",
    "        x = rearrange(x, 'y x -> (y x)')\n",
    "        topk, indices = torch.topk(x, self.k, dim = -1)\n",
    "        topk = self.softmax(topk)\n",
    "        return [(i, t) for i, t in zip(indices, topk)]"
   ]
  },
  {
   "cell_type": "code",
   "execution_count": 32,
   "metadata": {},
   "outputs": [],
   "source": [
    "class MoE(nn.Module):\n",
    "    def __init__(\n",
    "        self,\n",
    "        input_size,\n",
    "        expert_count,\n",
    "        hidden_layers=64,\n",
    "        k = 2,\n",
    "        dropout = 0.5\n",
    "    ):\n",
    "        super(MoE, self).__init__()\n",
    "        self.gate = SparseGate(\n",
    "            input_size,\n",
    "            expert_count,\n",
    "            k = k,\n",
    "            hidden_layers = hidden_layers,\n",
    "            dropout = dropout\n",
    "        )\n",
    "        self.experts = [MLP(input_size[-1]) for _ in range(expert_count)]\n",
    "        \n",
    "    def forward(self, x):\n",
    "        gate = self.gate(x)\n",
    "        y = torch.tensor([])\n",
    "        for i, g in gate:\n",
    "            e = g * self.experts[i](x)\n",
    "            e = rearrange(e, '(k m) d -> k m d', k=1)\n",
    "            y = torch.cat([y, e])\n",
    "        y = reduce(y, 'k m d -> m d', 'sum')\n",
    "        return y"
   ]
  },
  {
   "cell_type": "code",
   "execution_count": null,
   "metadata": {},
   "outputs": [],
   "source": []
  },
  {
   "cell_type": "code",
   "execution_count": 33,
   "metadata": {},
   "outputs": [
    {
     "name": "stdout",
     "output_type": "stream",
     "text": [
      "torch.Size([2, 64])\n",
      "tensor([[ 0.0000,  0.0451, -0.0163,  0.0000, -0.0265, -0.0006, -0.0319,  0.0381,\n",
      "          0.0521,  0.0062, -0.0047, -0.0040, -0.0402,  0.0194,  0.0000, -0.0416,\n",
      "          0.0815, -0.0694,  0.0266, -0.0547,  0.0211, -0.0225,  0.0000, -0.0342,\n",
      "          0.0030,  0.0184, -0.0578,  0.0000,  0.0000,  0.0000,  0.0686, -0.0198,\n",
      "          0.0000, -0.0569,  0.1204,  0.0398,  0.0318, -0.0225,  0.0000, -0.0078,\n",
      "          0.0169, -0.0319,  0.0000,  0.1281, -0.0389,  0.0951,  0.0173, -0.0406,\n",
      "         -0.0475, -0.0139,  0.0771,  0.0285,  0.0532,  0.0121,  0.0395,  0.0000,\n",
      "          0.0000,  0.0000, -0.0526,  0.0048, -0.0043,  0.0489,  0.0631,  0.0870],\n",
      "        [ 0.0360,  0.0000,  0.0860,  0.0113,  0.0245,  0.0000,  0.0225,  0.0000,\n",
      "          0.1122, -0.0734, -0.0129,  0.0000,  0.0000,  0.0555,  0.1088,  0.0000,\n",
      "         -0.0355, -0.1017,  0.0401,  0.0000,  0.0000,  0.0000,  0.0937,  0.0072,\n",
      "          0.1026, -0.0120,  0.0834, -0.0067, -0.0160, -0.0166,  0.0000,  0.0000,\n",
      "          0.0000,  0.0081,  0.0000,  0.0106,  0.0072,  0.0006,  0.0293,  0.0314,\n",
      "          0.0000, -0.0331, -0.0336,  0.0343,  0.0471,  0.0000,  0.0817,  0.0214,\n",
      "          0.0000,  0.0000,  0.0424,  0.0312, -0.0646, -0.0239, -0.0055, -0.0533,\n",
      "         -0.0200, -0.0513, -0.0187,  0.0518,  0.0181,  0.0000,  0.0349,  0.0098]],\n",
      "       grad_fn=<ReshapeAliasBackward0>)\n"
     ]
    }
   ],
   "source": [
    "mlp = MLP(\n",
    "    x.size(-1)\n",
    ")\n",
    "\n",
    "z = mlp(x)\n",
    "print(z.shape)\n",
    "\n",
    "e_count = 10 #Amount of experts\n",
    "\n",
    "moe = MoE(\n",
    "    z.size(),\n",
    "    e_count,\n",
    "    hidden_layers=64,\n",
    "    k = 2,\n",
    "    dropout = 0.5\n",
    ")\n",
    "\n",
    "print(moe(z))"
   ]
  },
  {
   "cell_type": "code",
   "execution_count": null,
   "metadata": {},
   "outputs": [],
   "source": []
  }
 ],
 "metadata": {
  "kernelspec": {
   "display_name": "Python 3 (ipykernel)",
   "language": "python",
   "name": "python3"
  },
  "language_info": {
   "codemirror_mode": {
    "name": "ipython",
    "version": 3
   },
   "file_extension": ".py",
   "mimetype": "text/x-python",
   "name": "python",
   "nbconvert_exporter": "python",
   "pygments_lexer": "ipython3",
   "version": "3.8.9"
  }
 },
 "nbformat": 4,
 "nbformat_minor": 4
}
