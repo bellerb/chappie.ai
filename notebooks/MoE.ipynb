{
 "cells": [
  {
   "cell_type": "markdown",
   "metadata": {},
   "source": [
    "# Mixture of Experts (MoE)"
   ]
  },
  {
   "cell_type": "code",
   "execution_count": 1,
   "metadata": {},
   "outputs": [
    {
     "name": "stdout",
     "output_type": "stream",
     "text": [
      "tensor([[0.0215, 0.8337, 0.6925],\n",
      "        [0.5410, 0.0609, 0.2126]])\n"
     ]
    }
   ],
   "source": [
    "import torch\n",
    "from torch import nn\n",
    "\n",
    "x = torch.rand(2,3)\n",
    "print(x)"
   ]
  },
  {
   "cell_type": "code",
   "execution_count": 2,
   "metadata": {},
   "outputs": [],
   "source": [
    "class MLP(nn.Module):\n",
    "    def __init__(\n",
    "        self,\n",
    "        input_size,\n",
    "        layer_size = 64,\n",
    "        heads = 1,\n",
    "        dropout = 0.5,\n",
    "        bias = False\n",
    "    ):\n",
    "        super(MLP, self).__init__()\n",
    "        self.linear = nn.Sequential(\n",
    "            nn.Linear(\n",
    "                input_size,\n",
    "                layer_size,\n",
    "                bias = bias\n",
    "            ),\n",
    "            nn.Dropout(dropout)\n",
    "        )\n",
    "        self.GELU = torch.nn.GELU()\n",
    "\n",
    "    def forward(self, x):\n",
    "        z = self.linear(x)\n",
    "        z = nn.functional.normalize(z, dim=-1)\n",
    "        z = self.GELU(z)\n",
    "        return z"
   ]
  },
  {
   "cell_type": "code",
   "execution_count": 3,
   "metadata": {},
   "outputs": [],
   "source": [
    "class Router(nn.Module):\n",
    "    def __init__(\n",
    "        self,\n",
    "        input_size,\n",
    "        dropout = 0.5\n",
    "    ):\n",
    "        super(Router, self).__init__()\n",
    "        self.linear = nn.Sequential(\n",
    "            nn.Linear(\n",
    "                input_size,\n",
    "                1,\n",
    "                bias = False\n",
    "            ),\n",
    "            nn.Dropout(dropout)\n",
    "        )\n",
    "        self.GELU = nn.GELU()\n",
    "        self.softmax = nn.Softmax(dim=0)\n",
    "\n",
    "    def forward(self, x):\n",
    "        z = self.linear(x)\n",
    "        #z = nn.functional.normalize(z, dim=-1)\n",
    "        z = self.GELU(z)\n",
    "        z = self.softmax(z)\n",
    "        return z"
   ]
  },
  {
   "cell_type": "code",
   "execution_count": 7,
   "metadata": {},
   "outputs": [
    {
     "name": "stdout",
     "output_type": "stream",
     "text": [
      "tensor([[0.5003],\n",
      "        [0.4997]], grad_fn=<SoftmaxBackward0>)\n",
      "torch.return_types.topk(\n",
      "values=tensor([[0.5003]], grad_fn=<TopkBackward0>),\n",
      "indices=tensor([[0]]))\n"
     ]
    }
   ],
   "source": [
    "mlp = MLP(\n",
    "    input_size = x.size(-1)\n",
    ")\n",
    "\n",
    "z = mlp(x)\n",
    "\n",
    "router = Router(\n",
    "    input_size = z.size(-1)\n",
    ")\n",
    "\n",
    "z = router(z)\n",
    "print(z)\n",
    "\n",
    "print(torch.topk(z, 1, dim = 0))"
   ]
  },
  {
   "cell_type": "code",
   "execution_count": null,
   "metadata": {},
   "outputs": [],
   "source": []
  }
 ],
 "metadata": {
  "kernelspec": {
   "display_name": "Python 3",
   "language": "python",
   "name": "python3"
  },
  "language_info": {
   "codemirror_mode": {
    "name": "ipython",
    "version": 3
   },
   "file_extension": ".py",
   "mimetype": "text/x-python",
   "name": "python",
   "nbconvert_exporter": "python",
   "pygments_lexer": "ipython3",
   "version": "3.6.8"
  }
 },
 "nbformat": 4,
 "nbformat_minor": 4
}
