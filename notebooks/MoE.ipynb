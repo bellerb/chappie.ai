{
 "cells": [
  {
   "cell_type": "markdown",
   "metadata": {},
   "source": [
    "# Mixture of Experts (MoE)"
   ]
  },
  {
   "cell_type": "code",
   "execution_count": 1,
   "metadata": {},
   "outputs": [
    {
     "name": "stdout",
     "output_type": "stream",
     "text": [
      "tensor([[0.9532, 0.2905, 0.9662],\n",
      "        [0.5892, 0.4584, 0.6422]])\n"
     ]
    }
   ],
   "source": [
    "import torch\n",
    "from torch import nn\n",
    "from einops import rearrange, reduce\n",
    "\n",
    "x = torch.rand(2,3)\n",
    "print(x)"
   ]
  },
  {
   "cell_type": "code",
   "execution_count": 2,
   "metadata": {},
   "outputs": [],
   "source": [
    "class MLP(nn.Module):\n",
    "    def __init__(\n",
    "        self,\n",
    "        input_size,\n",
    "        layer_size = 64,\n",
    "        heads = 1,\n",
    "        dropout = 0.5,\n",
    "        bias = False\n",
    "    ):\n",
    "        super(MLP, self).__init__()\n",
    "        self.linear = nn.Sequential(\n",
    "            nn.Linear(\n",
    "                input_size,\n",
    "                layer_size,\n",
    "                bias = bias\n",
    "            ),\n",
    "            nn.Dropout(dropout)\n",
    "        )\n",
    "        self.GELU = torch.nn.GELU()\n",
    "\n",
    "    def forward(self, x):\n",
    "        z = self.linear(x)\n",
    "        z = nn.functional.normalize(z, dim=-1)\n",
    "        z = self.GELU(z)\n",
    "        return z"
   ]
  },
  {
   "cell_type": "code",
   "execution_count": 3,
   "metadata": {},
   "outputs": [],
   "source": [
    "class SparseGate(nn.Module):\n",
    "    def __init__(\n",
    "        self,\n",
    "        input_size,\n",
    "        expert_count,\n",
    "        hidden_layers=64,\n",
    "        k = 2,\n",
    "        dropout = 0.5\n",
    "    ):\n",
    "        super(SparseGate, self).__init__()\n",
    "        self.input = nn.Sequential(\n",
    "            nn.Linear(\n",
    "                input_size[-1],\n",
    "                hidden_layers,\n",
    "                bias = False\n",
    "            ),\n",
    "            nn.Dropout(dropout)\n",
    "        )\n",
    "        self.linear = nn.Sequential(\n",
    "            nn.Linear(\n",
    "                hidden_layers,\n",
    "                expert_count,\n",
    "                bias = False\n",
    "            ),\n",
    "            nn.Dropout(dropout)\n",
    "        )\n",
    "        self.output = nn.Sequential(\n",
    "            nn.Linear(\n",
    "                input_size[0],\n",
    "                1,\n",
    "                bias = False\n",
    "            ),\n",
    "            nn.Dropout(dropout)\n",
    "        )\n",
    "        self.softmax = torch.nn.Softmax(dim = -1)\n",
    "        self.k = k\n",
    "        \n",
    "    def forward(self, x):\n",
    "        x = self.input(x)\n",
    "        x = self.linear(x)\n",
    "        x = self.output(x.T)\n",
    "        x = rearrange(x, 'y x -> (y x)')\n",
    "        topk, indices = torch.topk(x, self.k, dim = -1)\n",
    "        topk = self.softmax(topk)\n",
    "        z = torch.zeros_like(x)\n",
    "        z[indices] = topk\n",
    "        return z"
   ]
  },
  {
   "cell_type": "code",
   "execution_count": 17,
   "metadata": {},
   "outputs": [],
   "source": [
    "class MoE(nn.Module):\n",
    "    def __init__(\n",
    "        self,\n",
    "        input_size,\n",
    "        expert_count,\n",
    "        hidden_layers=64,\n",
    "        k = 2,\n",
    "        dropout = 0.5\n",
    "    ):\n",
    "        super(MoE, self).__init__()\n",
    "        self.gate = SparseGate(\n",
    "            input_size,\n",
    "            expert_count,\n",
    "            k = k,\n",
    "            hidden_layers = hidden_layers,\n",
    "            dropout = dropout\n",
    "        )\n",
    "        self.experts = [MLP(input_size[-1]) for _ in range(expert_count)]\n",
    "        \n",
    "    def forward(self, x):\n",
    "        gate = self.gate(x)\n",
    "        y = torch.tensor([])\n",
    "        for i, g in enumerate(gate):\n",
    "            if g > 0:\n",
    "                e = self.experts[i](x) * g\n",
    "                e = rearrange(e, '(k m) d -> k m d', k=1)\n",
    "                y = torch.cat([y, e])\n",
    "        y = reduce(y, 'k m d -> m d', 'sum')\n",
    "        return y"
   ]
  },
  {
   "cell_type": "code",
   "execution_count": 22,
   "metadata": {},
   "outputs": [
    {
     "name": "stdout",
     "output_type": "stream",
     "text": [
      "torch.Size([2, 64])\n",
      "tensor([[ 4.1872e-02, -6.0294e-02,  5.3453e-02,  0.0000e+00, -2.3659e-02,\n",
      "         -1.4250e-02, -1.2553e-01, -2.7605e-02,  0.0000e+00,  0.0000e+00,\n",
      "          0.0000e+00,  5.2603e-03,  0.0000e+00, -2.0094e-02,  8.0195e-02,\n",
      "         -2.2227e-02, -9.2839e-03, -1.1017e-02,  0.0000e+00, -4.8096e-02,\n",
      "          8.0005e-02,  1.1165e-01,  0.0000e+00,  4.2281e-03,  2.3398e-02,\n",
      "          8.7653e-02,  0.0000e+00,  9.8433e-02, -2.5075e-02,  8.8758e-02,\n",
      "         -6.6435e-02, -5.9241e-02,  4.6554e-02,  0.0000e+00,  3.5318e-03,\n",
      "         -1.6312e-02,  0.0000e+00,  8.5300e-02,  2.5357e-02, -7.9469e-03,\n",
      "         -1.2364e-02, -4.5439e-02,  0.0000e+00, -2.4371e-02, -2.3888e-02,\n",
      "         -3.6232e-03,  1.3789e-01,  1.5770e-02, -3.2400e-02,  0.0000e+00,\n",
      "         -3.5098e-02,  7.7504e-03,  9.6464e-03,  2.6843e-01,  1.0529e-02,\n",
      "          1.5689e-02,  0.0000e+00,  2.8352e-02,  0.0000e+00, -9.8512e-03,\n",
      "         -8.7423e-03,  4.0917e-02, -6.2688e-02,  0.0000e+00],\n",
      "        [-1.3886e-02,  0.0000e+00,  0.0000e+00,  5.7179e-02, -4.9335e-02,\n",
      "          0.0000e+00, -7.0043e-02,  1.7365e-01, -5.8924e-02, -2.0181e-02,\n",
      "          8.5931e-03,  0.0000e+00,  0.0000e+00, -5.1743e-02,  7.6239e-02,\n",
      "         -7.0986e-02,  2.6377e-02, -6.8493e-02,  9.3509e-03,  5.2148e-02,\n",
      "          3.7145e-02,  0.0000e+00,  9.3595e-03,  0.0000e+00,  0.0000e+00,\n",
      "          0.0000e+00,  0.0000e+00,  6.4882e-02,  0.0000e+00,  0.0000e+00,\n",
      "         -4.6229e-02, -2.3862e-02,  0.0000e+00,  5.8562e-02,  0.0000e+00,\n",
      "         -4.8397e-02,  4.9419e-02,  4.6929e-02, -6.6084e-02,  2.6403e-02,\n",
      "          3.0720e-02,  0.0000e+00, -3.3268e-05, -3.2455e-03,  0.0000e+00,\n",
      "         -5.5563e-03,  6.8354e-02,  5.0558e-02,  0.0000e+00, -3.8815e-02,\n",
      "         -2.5446e-02,  4.0283e-03,  0.0000e+00,  4.6291e-02,  8.2766e-02,\n",
      "          9.0816e-03,  7.5425e-03, -4.0904e-02, -3.2093e-02,  8.5580e-03,\n",
      "         -1.0856e-02, -5.0031e-02,  7.1342e-02,  7.9478e-03]],\n",
      "       grad_fn=<ReshapeAliasBackward0>)\n"
     ]
    }
   ],
   "source": [
    "mlp = MLP(\n",
    "    x.size(-1)\n",
    ")\n",
    "\n",
    "z = mlp(x)\n",
    "print(z.shape)\n",
    "\n",
    "e_count = 10 #Amount of experts\n",
    "\n",
    "moe = MoE(\n",
    "    z.size(),\n",
    "    e_count,\n",
    "    hidden_layers=64,\n",
    "    k = 2,\n",
    "    dropout = 0.5\n",
    ")\n",
    "\n",
    "print(moe(z))"
   ]
  },
  {
   "cell_type": "code",
   "execution_count": null,
   "metadata": {},
   "outputs": [],
   "source": []
  }
 ],
 "metadata": {
  "kernelspec": {
   "display_name": "Python 3",
   "language": "python",
   "name": "python3"
  },
  "language_info": {
   "codemirror_mode": {
    "name": "ipython",
    "version": 3
   },
   "file_extension": ".py",
   "mimetype": "text/x-python",
   "name": "python",
   "nbconvert_exporter": "python",
   "pygments_lexer": "ipython3",
   "version": "3.6.8"
  }
 },
 "nbformat": 4,
 "nbformat_minor": 4
}
