{
 "cells": [
  {
   "cell_type": "markdown",
   "id": "0f20bf06-1d28-4e53-8fd9-1b8d3659a758",
   "metadata": {},
   "source": [
    "# kNN (K-Nearest Neighbors)"
   ]
  },
  {
   "cell_type": "code",
   "execution_count": 5,
   "id": "52797b9f-7f34-4295-bada-1598e871c651",
   "metadata": {},
   "outputs": [],
   "source": [
    "import torch\n",
    "import pandas as pd"
   ]
  },
  {
   "cell_type": "code",
   "execution_count": 15,
   "id": "73e3d009-3639-4b74-ae60-ffb104498fc0",
   "metadata": {},
   "outputs": [],
   "source": [
    "chunks = torch.rand(4, 4, 20) #Sample chunks\n",
    "e_db = pd.DataFrame(torch.rand(20000, 1, 20, 20).tolist()) #Sample embedding database"
   ]
  },
  {
   "cell_type": "code",
   "execution_count": 20,
   "id": "0a68b09b-d09f-49bd-91bd-4a1da2494111",
   "metadata": {},
   "outputs": [
    {
     "name": "stdout",
     "output_type": "stream",
     "text": [
      "torch.Size([4, 2, 20, 20])\n"
     ]
    }
   ],
   "source": [
    "#Chunks might be getting built wrong where its cutting them in half the wrong way\n",
    "\n",
    "def get_kNN(chunks, e_db, k = 2):\n",
    "    \"\"\"\n",
    "    Input: chunks - tensor containing initial data\n",
    "            e_db - dataframe containing embeddings\n",
    "    Description: find k-nearest-neighbours of input tensor\n",
    "    Output: tensor containing the k-nearest-neighbours of input tensor\n",
    "    \"\"\"\n",
    "    neighbours = torch.tensor([])\n",
    "    for i, chunk in enumerate(chunks):\n",
    "        e_db['L2'] = e_db.apply(lambda x:torch.linalg.norm(chunk - torch.tensor(x[0][chunk.size(0) * i:chunk.size(0) * (i + 1)])).item(), axis=1)\n",
    "        kNN = torch.tensor([e_db.nsmallest(k, ['L2'])[0].tolist()])\n",
    "        neighbours = torch.cat([neighbours, kNN])\n",
    "    return neighbours\n",
    "\n",
    "neighbours = get_kNN(chunks, e_db)\n",
    "print(neighbours.size())"
   ]
  },
  {
   "cell_type": "code",
   "execution_count": 21,
   "id": "ea8606ab-1901-4055-8c0e-11005df7525e",
   "metadata": {},
   "outputs": [
    {
     "name": "stdout",
     "output_type": "stream",
     "text": [
      "torch.Size([4, 2, 20, 20])\n"
     ]
    }
   ],
   "source": [
    "def new_kNN(chunks, e_db, k = 2):\n",
    "    \"\"\"\n",
    "    Input: chunks - tensor containing initial data\n",
    "            e_db - dataframe containing embeddings\n",
    "    Description: find k-nearest-neighbours of input tensor\n",
    "    Output: tensor containing the k-nearest-neighbours of input tensor\n",
    "    \"\"\"\n",
    "    e_db = torch.squeeze(torch.tensor(e_db[0]))\n",
    "    neighbours = torch.tensor([])\n",
    "    for i, chunk in enumerate(chunks):\n",
    "        neighbours = torch.cat(\n",
    "            [\n",
    "                neighbours, \n",
    "                e_db[\n",
    "                    torch.linalg.matrix_norm(\n",
    "                        chunk - e_db[:, chunk.size(0) * i : chunk.size(0) * (i + 1)] #Compare slice with chunk\n",
    "                    ).topk(k, largest = False).indices #Index of k nearest neighbours\n",
    "                ][None, :, :]\n",
    "            ]\n",
    "        )\n",
    "    return neighbours\n",
    "    \n",
    "neighbours = new_kNN(chunks, e_db)\n",
    "print(neighbours.size())"
   ]
  },
  {
   "cell_type": "code",
   "execution_count": 23,
   "id": "cb35e7a8-87ec-45d4-9b7a-0d37dc8b8caa",
   "metadata": {},
   "outputs": [
    {
     "ename": "RuntimeError",
     "evalue": "Boolean value of Tensor with more than one value is ambiguous",
     "output_type": "error",
     "traceback": [
      "\u001b[0;31m---------------------------------------------------------------------------\u001b[0m",
      "\u001b[0;31mRuntimeError\u001b[0m                              Traceback (most recent call last)",
      "Cell \u001b[0;32mIn [23], line 1\u001b[0m\n\u001b[0;32m----> 1\u001b[0m \u001b[38;5;28;01mif\u001b[39;00m new_kNN(chunks, e_db) \u001b[38;5;241m==\u001b[39m get_kNN(chunks, e_db): \u001b[38;5;28mprint\u001b[39m(\u001b[38;5;124m'\u001b[39m\u001b[38;5;124mFunctions return the same value\u001b[39m\u001b[38;5;124m'\u001b[39m)\n",
      "\u001b[0;31mRuntimeError\u001b[0m: Boolean value of Tensor with more than one value is ambiguous"
     ]
    }
   ],
   "source": [
    "if new_kNN(chunks, e_db) == get_kNN(chunks, e_db): print('Functions return the same value')"
   ]
  },
  {
   "cell_type": "markdown",
   "id": "ea35615d-cb67-4ef6-8d24-568f480c1db3",
   "metadata": {},
   "source": [
    "## Small data sample"
   ]
  },
  {
   "cell_type": "code",
   "execution_count": 5,
   "id": "2cfd09a8-b1d6-440c-9a9c-dbc86cf78c5d",
   "metadata": {},
   "outputs": [],
   "source": [
    "chunks = torch.rand(2,10,20) #Sample chunks\n",
    "e_db = pd.DataFrame(torch.rand(20,1,20,20).tolist()) #Sample embedding database"
   ]
  },
  {
   "cell_type": "code",
   "execution_count": 6,
   "id": "26f6a48a-c729-42dc-971d-2e08d8a92a30",
   "metadata": {},
   "outputs": [
    {
     "name": "stdout",
     "output_type": "stream",
     "text": [
      "2.29 ms ± 1.1 ms per loop (mean ± std. dev. of 7 runs, 10 loops each)\n"
     ]
    }
   ],
   "source": [
    "%timeit -n 10 get_kNN(chunks, e_db)"
   ]
  },
  {
   "cell_type": "code",
   "execution_count": 7,
   "id": "25a88754-9a67-4195-949f-c9cc20293cef",
   "metadata": {},
   "outputs": [
    {
     "name": "stdout",
     "output_type": "stream",
     "text": [
      "683 µs ± 265 µs per loop (mean ± std. dev. of 7 runs, 10 loops each)\n"
     ]
    }
   ],
   "source": [
    "%timeit -n 10 new_kNN(chunks, e_db)"
   ]
  },
  {
   "cell_type": "markdown",
   "id": "6e2c475a-d104-4771-9ba4-bec0254ee467",
   "metadata": {},
   "source": [
    "## Medium data sample"
   ]
  },
  {
   "cell_type": "code",
   "execution_count": 8,
   "id": "76e46563-3042-458a-a2b9-fe3dc47724a0",
   "metadata": {},
   "outputs": [],
   "source": [
    "chunks = torch.rand(2,10,20) #Sample chunks\n",
    "e_db = pd.DataFrame(torch.rand(20000,1,20,20).tolist()) #Sample embedding database"
   ]
  },
  {
   "cell_type": "code",
   "execution_count": 9,
   "id": "f076e640-712f-450c-9dc4-81a70ca929d2",
   "metadata": {},
   "outputs": [
    {
     "name": "stdout",
     "output_type": "stream",
     "text": [
      "477 ms ± 3.15 ms per loop (mean ± std. dev. of 7 runs, 10 loops each)\n"
     ]
    }
   ],
   "source": [
    "%timeit -n 10 get_kNN(chunks, e_db)"
   ]
  },
  {
   "cell_type": "code",
   "execution_count": 10,
   "id": "e8c00fa6-fe10-4cc9-a4b7-a87f34a23574",
   "metadata": {},
   "outputs": [
    {
     "name": "stdout",
     "output_type": "stream",
     "text": [
      "210 ms ± 995 µs per loop (mean ± std. dev. of 7 runs, 10 loops each)\n"
     ]
    }
   ],
   "source": [
    "%timeit -n 10 new_kNN(chunks, e_db)"
   ]
  },
  {
   "cell_type": "markdown",
   "id": "50b9fcb3-dbad-49f6-a369-a554cdfb12e8",
   "metadata": {},
   "source": [
    "## Large data sample"
   ]
  },
  {
   "cell_type": "code",
   "execution_count": 11,
   "id": "761f74ae-f36d-4fbc-9ebe-ee0e5b827760",
   "metadata": {},
   "outputs": [],
   "source": [
    "chunks = torch.rand(2,10,20) #Sample chunks\n",
    "e_db = pd.DataFrame(torch.rand(500000,1,20,20).tolist()) #Sample embedding database"
   ]
  },
  {
   "cell_type": "code",
   "execution_count": 12,
   "id": "b24e776d-d5f9-4896-ae8c-cf9d10eb1e59",
   "metadata": {},
   "outputs": [
    {
     "name": "stdout",
     "output_type": "stream",
     "text": [
      "33.3 s ± 333 ms per loop (mean ± std. dev. of 7 runs, 10 loops each)\n"
     ]
    }
   ],
   "source": [
    "%timeit -n 10 get_kNN(chunks, e_db)"
   ]
  },
  {
   "cell_type": "code",
   "execution_count": 13,
   "id": "d166b6b7-d2dc-4731-a925-8c251e72b4d7",
   "metadata": {},
   "outputs": [
    {
     "name": "stdout",
     "output_type": "stream",
     "text": [
      "14.5 s ± 614 ms per loop (mean ± std. dev. of 7 runs, 10 loops each)\n"
     ]
    }
   ],
   "source": [
    "%timeit -n 10 new_kNN(chunks, e_db)"
   ]
  },
  {
   "cell_type": "markdown",
   "id": "cc1c82be-0317-4c8e-89ee-f7b62eff275c",
   "metadata": {},
   "source": [
    "## More neighbours"
   ]
  },
  {
   "cell_type": "code",
   "execution_count": 14,
   "id": "9330de18-68df-4e73-8db4-b72c652b2dc8",
   "metadata": {},
   "outputs": [],
   "source": [
    "chunks = torch.rand(2,10,20) #Sample chunks\n",
    "e_db = pd.DataFrame(torch.rand(20000,1,20,20).tolist()) #Sample embedding database"
   ]
  },
  {
   "cell_type": "code",
   "execution_count": 15,
   "id": "9473907d-3c04-4c44-9dc2-f17c2dd99116",
   "metadata": {},
   "outputs": [
    {
     "name": "stdout",
     "output_type": "stream",
     "text": [
      "488 ms ± 6.74 ms per loop (mean ± std. dev. of 7 runs, 10 loops each)\n"
     ]
    }
   ],
   "source": [
    "%timeit -n 10 get_kNN(chunks, e_db, k=100)"
   ]
  },
  {
   "cell_type": "code",
   "execution_count": 16,
   "id": "524bcf6f-0872-46c1-9665-7ac55186a014",
   "metadata": {},
   "outputs": [
    {
     "name": "stdout",
     "output_type": "stream",
     "text": [
      "220 ms ± 247 µs per loop (mean ± std. dev. of 7 runs, 10 loops each)\n"
     ]
    }
   ],
   "source": [
    "%timeit -n 10 new_kNN(chunks, e_db, k=100)"
   ]
  },
  {
   "cell_type": "markdown",
   "id": "163ea7e6-5271-405d-8385-f1196b352982",
   "metadata": {},
   "source": [
    "## Results"
   ]
  },
  {
   "cell_type": "code",
   "execution_count": 2,
   "id": "c9221ff5-6e78-4ab3-9e79-c79b06e84aa0",
   "metadata": {},
   "outputs": [
    {
     "data": {
      "text/plain": [
       "<AxesSubplot: >"
      ]
     },
     "execution_count": 2,
     "metadata": {},
     "output_type": "execute_result"
    },
    {
     "data": {
      "image/png": "[encoded data removed]",
      "text/plain": [
       "<Figure size 640x480 with 1 Axes>"
      ]
     },
     "metadata": {},
     "output_type": "display_data"
    }
   ],
   "source": [
    "import matplotlib.pyplot as plt\n",
    "\n",
    "df = pd.DataFrame(\n",
    "    {\n",
    "        'v1':[2.29, 477, 3330],\n",
    "        'v2':[0.683, 210, 1450]\n",
    "    },\n",
    "    index=[20, 20000, 500000]\n",
    ")\n",
    "\n",
    "df.plot.line()"
   ]
  },
  {
   "cell_type": "code",
   "execution_count": null,
   "id": "edd3f6c3-b265-46de-82ae-d9ed6931703f",
   "metadata": {},
   "outputs": [],
   "source": []
  }
 ],
 "metadata": {
  "kernelspec": {
   "display_name": "Python 3 (ipykernel)",
   "language": "python",
   "name": "python3"
  },
  "language_info": {
   "codemirror_mode": {
    "name": "ipython",
    "version": 3
   },
   "file_extension": ".py",
   "mimetype": "text/x-python",
   "name": "python",
   "nbconvert_exporter": "python",
   "pygments_lexer": "ipython3",
   "version": "3.9.6"
  }
 },
 "nbformat": 4,
 "nbformat_minor": 5
}
