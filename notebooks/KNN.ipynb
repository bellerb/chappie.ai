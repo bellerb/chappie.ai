{
 "cells": [
  {
   "cell_type": "markdown",
   "id": "0f20bf06-1d28-4e53-8fd9-1b8d3659a758",
   "metadata": {},
   "source": [
    "# kNN (K-Nearest Neighbors)"
   ]
  },
  {
   "cell_type": "code",
   "execution_count": 1,
   "id": "52797b9f-7f34-4295-bada-1598e871c651",
   "metadata": {},
   "outputs": [],
   "source": [
    "import torch\n",
    "import pandas as pd"
   ]
  },
  {
   "cell_type": "code",
   "execution_count": 2,
   "id": "73e3d009-3639-4b74-ae60-ffb104498fc0",
   "metadata": {},
   "outputs": [],
   "source": [
    "chunks = torch.rand(2,10,20) #Sample chunks\n",
    "e_db = pd.DataFrame(torch.rand(20000,1,20,20).tolist()) #Sample embedding database"
   ]
  },
  {
   "cell_type": "code",
   "execution_count": 3,
   "id": "0a68b09b-d09f-49bd-91bd-4a1da2494111",
   "metadata": {},
   "outputs": [
    {
     "name": "stdout",
     "output_type": "stream",
     "text": [
      "tensor([[[[0.8339, 0.4058, 0.4865,  ..., 0.6056, 0.5309, 0.8444],\n",
      "          [0.7127, 0.6784, 0.0095,  ..., 0.6647, 0.1412, 0.1697],\n",
      "          [0.5732, 0.0255, 0.7633,  ..., 0.3600, 0.2175, 0.6936],\n",
      "          ...,\n",
      "          [0.5702, 0.5199, 0.6894,  ..., 0.1080, 0.9961, 0.1616],\n",
      "          [0.1445, 0.5681, 0.4068,  ..., 0.4583, 0.7313, 0.2490],\n",
      "          [0.3081, 0.8959, 0.4925,  ..., 0.1634, 0.4041, 0.9460]],\n",
      "\n",
      "         [[0.0771, 0.7256, 0.3806,  ..., 0.9940, 0.9824, 0.1998],\n",
      "          [0.5780, 0.7712, 0.1326,  ..., 0.3795, 0.7418, 0.3705],\n",
      "          [0.9809, 0.8807, 0.6996,  ..., 0.0742, 0.1150, 0.0569],\n",
      "          ...,\n",
      "          [0.2882, 0.7255, 0.1155,  ..., 0.1654, 0.0761, 0.3060],\n",
      "          [0.4759, 0.4365, 0.9990,  ..., 0.3860, 0.9442, 0.2466],\n",
      "          [0.2106, 0.2431, 0.9540,  ..., 0.1373, 0.5787, 0.7914]]],\n",
      "\n",
      "\n",
      "        [[[0.2835, 0.4034, 0.2680,  ..., 0.7233, 0.4990, 0.2989],\n",
      "          [0.1439, 0.8564, 0.1550,  ..., 0.7646, 0.1905, 0.0646],\n",
      "          [0.9763, 0.8006, 0.7100,  ..., 0.0305, 0.5351, 0.2872],\n",
      "          ...,\n",
      "          [0.6853, 0.8575, 0.4024,  ..., 0.4299, 0.1094, 0.6159],\n",
      "          [0.0032, 0.3178, 0.1669,  ..., 0.7484, 0.5178, 0.3694],\n",
      "          [0.1436, 0.0678, 0.3244,  ..., 0.8347, 0.5333, 0.1739]],\n",
      "\n",
      "         [[0.8343, 0.7822, 0.9896,  ..., 0.9551, 0.2606, 0.9133],\n",
      "          [0.9383, 0.8455, 0.5878,  ..., 0.6617, 0.6990, 0.8302],\n",
      "          [0.3634, 0.5918, 0.6688,  ..., 0.7398, 0.2848, 0.6891],\n",
      "          ...,\n",
      "          [0.3666, 0.4926, 0.3288,  ..., 0.3311, 0.2991, 0.1173],\n",
      "          [0.8610, 0.8905, 0.7106,  ..., 0.6899, 0.9469, 0.1352],\n",
      "          [0.7765, 0.8569, 0.3411,  ..., 0.0989, 0.5767, 0.5487]]]]) \n",
      " torch.Size([2, 2, 20, 20])\n"
     ]
    }
   ],
   "source": [
    "#Chunks might be getting built wrong where its cutting them in half the wrong way\n",
    "\n",
    "def get_kNN(chunks, e_db, k = 2):\n",
    "    \"\"\"\n",
    "    Input: chunks - tensor containing initial data\n",
    "            e_db - dataframe containing embeddings\n",
    "    Description: find k-nearest-neighbours of input tensor\n",
    "    Output: tensor containing the k-nearest-neighbours of input tensor\n",
    "    \"\"\"\n",
    "    neighbours = torch.tensor([])\n",
    "    for i, chunk in enumerate(chunks):\n",
    "        e_db['L2'] = e_db.apply(lambda x:torch.linalg.norm(chunk - torch.tensor(x[0][chunk.size(0) * i:chunk.size(0) * (i + 1)])).item(), axis=1)\n",
    "        kNN = torch.tensor([e_db.nsmallest(k, ['L2'])[0].tolist()])\n",
    "        neighbours = torch.cat([neighbours, kNN])\n",
    "    return neighbours\n",
    "\n",
    "neighbours = get_kNN(chunks, e_db)\n",
    "print(neighbours, '\\n', neighbours.size())"
   ]
  },
  {
   "cell_type": "code",
   "execution_count": 4,
   "id": "ea8606ab-1901-4055-8c0e-11005df7525e",
   "metadata": {},
   "outputs": [
    {
     "name": "stdout",
     "output_type": "stream",
     "text": [
      "tensor([[[[0.8339, 0.4058, 0.4865,  ..., 0.6056, 0.5309, 0.8444],\n",
      "          [0.7127, 0.6784, 0.0095,  ..., 0.6647, 0.1412, 0.1697],\n",
      "          [0.5732, 0.0255, 0.7633,  ..., 0.3600, 0.2175, 0.6936],\n",
      "          ...,\n",
      "          [0.5702, 0.5199, 0.6894,  ..., 0.1080, 0.9961, 0.1616],\n",
      "          [0.1445, 0.5681, 0.4068,  ..., 0.4583, 0.7313, 0.2490],\n",
      "          [0.3081, 0.8959, 0.4925,  ..., 0.1634, 0.4041, 0.9460]],\n",
      "\n",
      "         [[0.0771, 0.7256, 0.3806,  ..., 0.9940, 0.9824, 0.1998],\n",
      "          [0.5780, 0.7712, 0.1326,  ..., 0.3795, 0.7418, 0.3705],\n",
      "          [0.9809, 0.8807, 0.6996,  ..., 0.0742, 0.1150, 0.0569],\n",
      "          ...,\n",
      "          [0.2882, 0.7255, 0.1155,  ..., 0.1654, 0.0761, 0.3060],\n",
      "          [0.4759, 0.4365, 0.9990,  ..., 0.3860, 0.9442, 0.2466],\n",
      "          [0.2106, 0.2431, 0.9540,  ..., 0.1373, 0.5787, 0.7914]]],\n",
      "\n",
      "\n",
      "        [[[0.2835, 0.4034, 0.2680,  ..., 0.7233, 0.4990, 0.2989],\n",
      "          [0.1439, 0.8564, 0.1550,  ..., 0.7646, 0.1905, 0.0646],\n",
      "          [0.9763, 0.8006, 0.7100,  ..., 0.0305, 0.5351, 0.2872],\n",
      "          ...,\n",
      "          [0.6853, 0.8575, 0.4024,  ..., 0.4299, 0.1094, 0.6159],\n",
      "          [0.0032, 0.3178, 0.1669,  ..., 0.7484, 0.5178, 0.3694],\n",
      "          [0.1436, 0.0678, 0.3244,  ..., 0.8347, 0.5333, 0.1739]],\n",
      "\n",
      "         [[0.8343, 0.7822, 0.9896,  ..., 0.9551, 0.2606, 0.9133],\n",
      "          [0.9383, 0.8455, 0.5878,  ..., 0.6617, 0.6990, 0.8302],\n",
      "          [0.3634, 0.5918, 0.6688,  ..., 0.7398, 0.2848, 0.6891],\n",
      "          ...,\n",
      "          [0.3666, 0.4926, 0.3288,  ..., 0.3311, 0.2991, 0.1173],\n",
      "          [0.8610, 0.8905, 0.7106,  ..., 0.6899, 0.9469, 0.1352],\n",
      "          [0.7765, 0.8569, 0.3411,  ..., 0.0989, 0.5767, 0.5487]]]]) \n",
      " torch.Size([2, 2, 20, 20])\n"
     ]
    }
   ],
   "source": [
    "def new_kNN(chunks, e_db, k = 2):\n",
    "    \"\"\"\n",
    "    Input: chunks - tensor containing initial data\n",
    "            e_db - dataframe containing embeddings\n",
    "    Description: find k-nearest-neighbours of input tensor\n",
    "    Output: tensor containing the k-nearest-neighbours of input tensor\n",
    "    \"\"\"\n",
    "    e_db = torch.tensor(e_db[0])\n",
    "    neighbours = torch.tensor([])\n",
    "    for i, chunk in enumerate(chunks):\n",
    "        neighbours = torch.cat(\n",
    "            [\n",
    "                neighbours, \n",
    "                e_db[\n",
    "                    torch.linalg.matrix_norm(\n",
    "                        chunk - e_db[:, chunk.size(0) * i : chunk.size(0) * (i + 1)] #Compare slice with chunk\n",
    "                    ).topk(k, largest = False).indices #Index of k nearest neighbours\n",
    "                ][None, :, :]\n",
    "            ]\n",
    "        )\n",
    "    return neighbours\n",
    "    \n",
    "neighbours = new_kNN(chunks, e_db)\n",
    "print(neighbours, '\\n', neighbours.size())"
   ]
  },
  {
   "cell_type": "markdown",
   "id": "ea35615d-cb67-4ef6-8d24-568f480c1db3",
   "metadata": {},
   "source": [
    "## Small data sample"
   ]
  },
  {
   "cell_type": "code",
   "execution_count": 5,
   "id": "2cfd09a8-b1d6-440c-9a9c-dbc86cf78c5d",
   "metadata": {},
   "outputs": [],
   "source": [
    "chunks = torch.rand(2,10,20) #Sample chunks\n",
    "e_db = pd.DataFrame(torch.rand(20,1,20,20).tolist()) #Sample embedding database"
   ]
  },
  {
   "cell_type": "code",
   "execution_count": 6,
   "id": "26f6a48a-c729-42dc-971d-2e08d8a92a30",
   "metadata": {},
   "outputs": [
    {
     "name": "stdout",
     "output_type": "stream",
     "text": [
      "3.45 ms ± 487 µs per loop (mean ± std. dev. of 7 runs, 10 loops each)\n"
     ]
    }
   ],
   "source": [
    "%timeit -n 10 get_kNN(chunks, e_db)"
   ]
  },
  {
   "cell_type": "code",
   "execution_count": 7,
   "id": "25a88754-9a67-4195-949f-c9cc20293cef",
   "metadata": {},
   "outputs": [
    {
     "name": "stdout",
     "output_type": "stream",
     "text": [
      "630 µs ± 283 µs per loop (mean ± std. dev. of 7 runs, 10 loops each)\n"
     ]
    }
   ],
   "source": [
    "%timeit -n 10 new_kNN(chunks, e_db)"
   ]
  },
  {
   "cell_type": "markdown",
   "id": "6e2c475a-d104-4771-9ba4-bec0254ee467",
   "metadata": {},
   "source": [
    "## Medium data sample"
   ]
  },
  {
   "cell_type": "code",
   "execution_count": 8,
   "id": "76e46563-3042-458a-a2b9-fe3dc47724a0",
   "metadata": {},
   "outputs": [],
   "source": [
    "chunks = torch.rand(2,10,20) #Sample chunks\n",
    "e_db = pd.DataFrame(torch.rand(20000,1,20,20).tolist()) #Sample embedding database"
   ]
  },
  {
   "cell_type": "code",
   "execution_count": 9,
   "id": "f076e640-712f-450c-9dc4-81a70ca929d2",
   "metadata": {},
   "outputs": [
    {
     "name": "stdout",
     "output_type": "stream",
     "text": [
      "926 ms ± 67 ms per loop (mean ± std. dev. of 7 runs, 10 loops each)\n"
     ]
    }
   ],
   "source": [
    "%timeit -n 10 get_kNN(chunks, e_db)"
   ]
  },
  {
   "cell_type": "code",
   "execution_count": 10,
   "id": "e8c00fa6-fe10-4cc9-a4b7-a87f34a23574",
   "metadata": {},
   "outputs": [
    {
     "name": "stdout",
     "output_type": "stream",
     "text": [
      "327 ms ± 12.7 ms per loop (mean ± std. dev. of 7 runs, 10 loops each)\n"
     ]
    }
   ],
   "source": [
    "%timeit -n 10 new_kNN(chunks, e_db)"
   ]
  },
  {
   "cell_type": "markdown",
   "id": "50b9fcb3-dbad-49f6-a369-a554cdfb12e8",
   "metadata": {},
   "source": [
    "## Large data sample"
   ]
  },
  {
   "cell_type": "code",
   "execution_count": 11,
   "id": "761f74ae-f36d-4fbc-9ebe-ee0e5b827760",
   "metadata": {},
   "outputs": [],
   "source": [
    "chunks = torch.rand(2,10,20) #Sample chunks\n",
    "e_db = pd.DataFrame(torch.rand(500000,1,20,20).tolist()) #Sample embedding database"
   ]
  },
  {
   "cell_type": "code",
   "execution_count": 12,
   "id": "b24e776d-d5f9-4896-ae8c-cf9d10eb1e59",
   "metadata": {},
   "outputs": [
    {
     "name": "stdout",
     "output_type": "stream",
     "text": [
      "1min 25s ± 9.3 s per loop (mean ± std. dev. of 7 runs, 10 loops each)\n"
     ]
    }
   ],
   "source": [
    "%timeit -n 10 get_kNN(chunks, e_db)"
   ]
  },
  {
   "cell_type": "code",
   "execution_count": 13,
   "id": "d166b6b7-d2dc-4731-a925-8c251e72b4d7",
   "metadata": {},
   "outputs": [
    {
     "ename": "KeyboardInterrupt",
     "evalue": "",
     "output_type": "error",
     "traceback": [
      "\u001b[1;31m---------------------------------------------------------------------------\u001b[0m",
      "\u001b[1;31mKeyboardInterrupt\u001b[0m                         Traceback (most recent call last)",
      "Cell \u001b[1;32mIn [13], line 1\u001b[0m\n\u001b[1;32m----> 1\u001b[0m \u001b[43mget_ipython\u001b[49m\u001b[43m(\u001b[49m\u001b[43m)\u001b[49m\u001b[38;5;241;43m.\u001b[39;49m\u001b[43mrun_line_magic\u001b[49m\u001b[43m(\u001b[49m\u001b[38;5;124;43m'\u001b[39;49m\u001b[38;5;124;43mtimeit\u001b[39;49m\u001b[38;5;124;43m'\u001b[39;49m\u001b[43m,\u001b[49m\u001b[43m \u001b[49m\u001b[38;5;124;43m'\u001b[39;49m\u001b[38;5;124;43m-n 10 new_kNN(chunks, e_db)\u001b[39;49m\u001b[38;5;124;43m'\u001b[39;49m\u001b[43m)\u001b[49m\n",
      "File \u001b[1;32mC:\\Projects\\scripts\\virtual-env\\jupyter\\lib\\site-packages\\IPython\\core\\interactiveshell.py:2364\u001b[0m, in \u001b[0;36mInteractiveShell.run_line_magic\u001b[1;34m(self, magic_name, line, _stack_depth)\u001b[0m\n\u001b[0;32m   2362\u001b[0m     kwargs[\u001b[38;5;124m'\u001b[39m\u001b[38;5;124mlocal_ns\u001b[39m\u001b[38;5;124m'\u001b[39m] \u001b[38;5;241m=\u001b[39m \u001b[38;5;28mself\u001b[39m\u001b[38;5;241m.\u001b[39mget_local_scope(stack_depth)\n\u001b[0;32m   2363\u001b[0m \u001b[38;5;28;01mwith\u001b[39;00m \u001b[38;5;28mself\u001b[39m\u001b[38;5;241m.\u001b[39mbuiltin_trap:\n\u001b[1;32m-> 2364\u001b[0m     result \u001b[38;5;241m=\u001b[39m fn(\u001b[38;5;241m*\u001b[39margs, \u001b[38;5;241m*\u001b[39m\u001b[38;5;241m*\u001b[39mkwargs)\n\u001b[0;32m   2365\u001b[0m \u001b[38;5;28;01mreturn\u001b[39;00m result\n",
      "File \u001b[1;32mC:\\Projects\\scripts\\virtual-env\\jupyter\\lib\\site-packages\\IPython\\core\\magics\\execution.py:1166\u001b[0m, in \u001b[0;36mExecutionMagics.timeit\u001b[1;34m(self, line, cell, local_ns)\u001b[0m\n\u001b[0;32m   1163\u001b[0m         \u001b[38;5;28;01mif\u001b[39;00m time_number \u001b[38;5;241m>\u001b[39m\u001b[38;5;241m=\u001b[39m \u001b[38;5;241m0.2\u001b[39m:\n\u001b[0;32m   1164\u001b[0m             \u001b[38;5;28;01mbreak\u001b[39;00m\n\u001b[1;32m-> 1166\u001b[0m all_runs \u001b[38;5;241m=\u001b[39m \u001b[43mtimer\u001b[49m\u001b[38;5;241;43m.\u001b[39;49m\u001b[43mrepeat\u001b[49m\u001b[43m(\u001b[49m\u001b[43mrepeat\u001b[49m\u001b[43m,\u001b[49m\u001b[43m \u001b[49m\u001b[43mnumber\u001b[49m\u001b[43m)\u001b[49m\n\u001b[0;32m   1167\u001b[0m best \u001b[38;5;241m=\u001b[39m \u001b[38;5;28mmin\u001b[39m(all_runs) \u001b[38;5;241m/\u001b[39m number\n\u001b[0;32m   1168\u001b[0m worst \u001b[38;5;241m=\u001b[39m \u001b[38;5;28mmax\u001b[39m(all_runs) \u001b[38;5;241m/\u001b[39m number\n",
      "File \u001b[1;32mC:\\Program Files\\lib\\timeit.py:206\u001b[0m, in \u001b[0;36mTimer.repeat\u001b[1;34m(self, repeat, number)\u001b[0m\n\u001b[0;32m    204\u001b[0m r \u001b[38;5;241m=\u001b[39m []\n\u001b[0;32m    205\u001b[0m \u001b[38;5;28;01mfor\u001b[39;00m i \u001b[38;5;129;01min\u001b[39;00m \u001b[38;5;28mrange\u001b[39m(repeat):\n\u001b[1;32m--> 206\u001b[0m     t \u001b[38;5;241m=\u001b[39m \u001b[38;5;28;43mself\u001b[39;49m\u001b[38;5;241;43m.\u001b[39;49m\u001b[43mtimeit\u001b[49m\u001b[43m(\u001b[49m\u001b[43mnumber\u001b[49m\u001b[43m)\u001b[49m\n\u001b[0;32m    207\u001b[0m     r\u001b[38;5;241m.\u001b[39mappend(t)\n\u001b[0;32m    208\u001b[0m \u001b[38;5;28;01mreturn\u001b[39;00m r\n",
      "File \u001b[1;32mC:\\Projects\\scripts\\virtual-env\\jupyter\\lib\\site-packages\\IPython\\core\\magics\\execution.py:156\u001b[0m, in \u001b[0;36mTimer.timeit\u001b[1;34m(self, number)\u001b[0m\n\u001b[0;32m    154\u001b[0m gc\u001b[38;5;241m.\u001b[39mdisable()\n\u001b[0;32m    155\u001b[0m \u001b[38;5;28;01mtry\u001b[39;00m:\n\u001b[1;32m--> 156\u001b[0m     timing \u001b[38;5;241m=\u001b[39m \u001b[38;5;28;43mself\u001b[39;49m\u001b[38;5;241;43m.\u001b[39;49m\u001b[43minner\u001b[49m\u001b[43m(\u001b[49m\u001b[43mit\u001b[49m\u001b[43m,\u001b[49m\u001b[43m \u001b[49m\u001b[38;5;28;43mself\u001b[39;49m\u001b[38;5;241;43m.\u001b[39;49m\u001b[43mtimer\u001b[49m\u001b[43m)\u001b[49m\n\u001b[0;32m    157\u001b[0m \u001b[38;5;28;01mfinally\u001b[39;00m:\n\u001b[0;32m    158\u001b[0m     \u001b[38;5;28;01mif\u001b[39;00m gcold:\n",
      "File \u001b[1;32m<magic-timeit>:1\u001b[0m, in \u001b[0;36minner\u001b[1;34m(_it, _timer)\u001b[0m\n",
      "Cell \u001b[1;32mIn [4], line 8\u001b[0m, in \u001b[0;36mnew_kNN\u001b[1;34m(chunks, e_db, k)\u001b[0m\n\u001b[0;32m      1\u001b[0m \u001b[38;5;28;01mdef\u001b[39;00m \u001b[38;5;21mnew_kNN\u001b[39m(chunks, e_db, k \u001b[38;5;241m=\u001b[39m \u001b[38;5;241m2\u001b[39m):\n\u001b[0;32m      2\u001b[0m     \u001b[38;5;124;03m\"\"\"\u001b[39;00m\n\u001b[0;32m      3\u001b[0m \u001b[38;5;124;03m    Input: chunks - tensor containing initial data\u001b[39;00m\n\u001b[0;32m      4\u001b[0m \u001b[38;5;124;03m            e_db - dataframe containing embeddings\u001b[39;00m\n\u001b[0;32m      5\u001b[0m \u001b[38;5;124;03m    Description: find k-nearest-neighbours of input tensor\u001b[39;00m\n\u001b[0;32m      6\u001b[0m \u001b[38;5;124;03m    Output: tensor containing the k-nearest-neighbours of input tensor\u001b[39;00m\n\u001b[0;32m      7\u001b[0m \u001b[38;5;124;03m    \"\"\"\u001b[39;00m\n\u001b[1;32m----> 8\u001b[0m     e_db \u001b[38;5;241m=\u001b[39m \u001b[43mtorch\u001b[49m\u001b[38;5;241;43m.\u001b[39;49m\u001b[43mtensor\u001b[49m\u001b[43m(\u001b[49m\u001b[43me_db\u001b[49m\u001b[43m[\u001b[49m\u001b[38;5;241;43m0\u001b[39;49m\u001b[43m]\u001b[49m\u001b[43m)\u001b[49m\n\u001b[0;32m      9\u001b[0m     neighbours \u001b[38;5;241m=\u001b[39m torch\u001b[38;5;241m.\u001b[39mtensor([])\n\u001b[0;32m     10\u001b[0m     \u001b[38;5;28;01mfor\u001b[39;00m i, chunk \u001b[38;5;129;01min\u001b[39;00m \u001b[38;5;28menumerate\u001b[39m(chunks):\n",
      "File \u001b[1;32mC:\\Projects\\scripts\\virtual-env\\jupyter\\lib\\site-packages\\pandas\\core\\series.py:967\u001b[0m, in \u001b[0;36mSeries.__getitem__\u001b[1;34m(self, key)\u001b[0m\n\u001b[0;32m    966\u001b[0m \u001b[38;5;28;01mdef\u001b[39;00m \u001b[38;5;21m__getitem__\u001b[39m(\u001b[38;5;28mself\u001b[39m, key):\n\u001b[1;32m--> 967\u001b[0m     \u001b[43mcheck_deprecated_indexers\u001b[49m\u001b[43m(\u001b[49m\u001b[43mkey\u001b[49m\u001b[43m)\u001b[49m\n\u001b[0;32m    968\u001b[0m     key \u001b[38;5;241m=\u001b[39m com\u001b[38;5;241m.\u001b[39mapply_if_callable(key, \u001b[38;5;28mself\u001b[39m)\n\u001b[0;32m    970\u001b[0m     \u001b[38;5;28;01mif\u001b[39;00m key \u001b[38;5;129;01mis\u001b[39;00m \u001b[38;5;28mEllipsis\u001b[39m:\n",
      "File \u001b[1;32mC:\\Projects\\scripts\\virtual-env\\jupyter\\lib\\site-packages\\pandas\\core\\indexing.py:2656\u001b[0m, in \u001b[0;36mcheck_deprecated_indexers\u001b[1;34m(key)\u001b[0m\n\u001b[0;32m   2644\u001b[0m     \u001b[38;5;124;03m\"\"\"\u001b[39;00m\n\u001b[0;32m   2645\u001b[0m \u001b[38;5;124;03m    Returns\u001b[39;00m\n\u001b[0;32m   2646\u001b[0m \u001b[38;5;124;03m    -------\u001b[39;00m\n\u001b[0;32m   2647\u001b[0m \u001b[38;5;124;03m    bool\u001b[39;00m\n\u001b[0;32m   2648\u001b[0m \u001b[38;5;124;03m    \"\"\"\u001b[39;00m\n\u001b[0;32m   2649\u001b[0m     \u001b[38;5;28;01mreturn\u001b[39;00m (\n\u001b[0;32m   2650\u001b[0m         obj\u001b[38;5;241m.\u001b[39mstart \u001b[38;5;129;01mis\u001b[39;00m \u001b[38;5;129;01mnot\u001b[39;00m \u001b[38;5;28;01mNone\u001b[39;00m\n\u001b[0;32m   2651\u001b[0m         \u001b[38;5;129;01mor\u001b[39;00m obj\u001b[38;5;241m.\u001b[39mstop \u001b[38;5;129;01mis\u001b[39;00m \u001b[38;5;129;01mnot\u001b[39;00m \u001b[38;5;28;01mNone\u001b[39;00m\n\u001b[0;32m   2652\u001b[0m         \u001b[38;5;129;01mor\u001b[39;00m (obj\u001b[38;5;241m.\u001b[39mstep \u001b[38;5;129;01mis\u001b[39;00m \u001b[38;5;129;01mnot\u001b[39;00m \u001b[38;5;28;01mNone\u001b[39;00m \u001b[38;5;129;01mand\u001b[39;00m obj\u001b[38;5;241m.\u001b[39mstep \u001b[38;5;241m!=\u001b[39m \u001b[38;5;241m1\u001b[39m)\n\u001b[0;32m   2653\u001b[0m     )\n\u001b[1;32m-> 2656\u001b[0m \u001b[38;5;28;01mdef\u001b[39;00m \u001b[38;5;21mcheck_deprecated_indexers\u001b[39m(key) \u001b[38;5;241m-\u001b[39m\u001b[38;5;241m>\u001b[39m \u001b[38;5;28;01mNone\u001b[39;00m:\n\u001b[0;32m   2657\u001b[0m     \u001b[38;5;124;03m\"\"\"Checks if the key is a deprecated indexer.\"\"\"\u001b[39;00m\n\u001b[0;32m   2658\u001b[0m     \u001b[38;5;28;01mif\u001b[39;00m (\n\u001b[0;32m   2659\u001b[0m         \u001b[38;5;28misinstance\u001b[39m(key, \u001b[38;5;28mset\u001b[39m)\n\u001b[0;32m   2660\u001b[0m         \u001b[38;5;129;01mor\u001b[39;00m \u001b[38;5;28misinstance\u001b[39m(key, \u001b[38;5;28mtuple\u001b[39m)\n\u001b[0;32m   2661\u001b[0m         \u001b[38;5;129;01mand\u001b[39;00m \u001b[38;5;28many\u001b[39m(\u001b[38;5;28misinstance\u001b[39m(x, \u001b[38;5;28mset\u001b[39m) \u001b[38;5;28;01mfor\u001b[39;00m x \u001b[38;5;129;01min\u001b[39;00m key)\n\u001b[0;32m   2662\u001b[0m     ):\n",
      "\u001b[1;31mKeyboardInterrupt\u001b[0m: "
     ]
    }
   ],
   "source": [
    "%timeit -n 10 new_kNN(chunks, e_db)"
   ]
  },
  {
   "cell_type": "markdown",
   "id": "cc1c82be-0317-4c8e-89ee-f7b62eff275c",
   "metadata": {},
   "source": [
    "## More neighbours"
   ]
  },
  {
   "cell_type": "code",
   "execution_count": null,
   "id": "9330de18-68df-4e73-8db4-b72c652b2dc8",
   "metadata": {},
   "outputs": [],
   "source": [
    "chunks = torch.rand(2,10,20) #Sample chunks\n",
    "e_db = pd.DataFrame(torch.rand(20000,1,20,20).tolist()) #Sample embedding database"
   ]
  },
  {
   "cell_type": "code",
   "execution_count": null,
   "id": "9473907d-3c04-4c44-9dc2-f17c2dd99116",
   "metadata": {},
   "outputs": [],
   "source": [
    "%timeit -n 10 get_kNN(chunks, e_db, k=100)"
   ]
  },
  {
   "cell_type": "code",
   "execution_count": null,
   "id": "524bcf6f-0872-46c1-9665-7ac55186a014",
   "metadata": {},
   "outputs": [],
   "source": [
    "%timeit -n 10 new_kNN(chunks, e_db, k=100)"
   ]
  },
  {
   "cell_type": "markdown",
   "id": "163ea7e6-5271-405d-8385-f1196b352982",
   "metadata": {},
   "source": [
    "## Results"
   ]
  },
  {
   "cell_type": "code",
   "execution_count": null,
   "id": "c9221ff5-6e78-4ab3-9e79-c79b06e84aa0",
   "metadata": {},
   "outputs": [],
   "source": [
    "df = pd.DataFrame(\n",
    "    {\n",
    "        'v1':[3.45, 926, ],\n",
    "        'v2':[0.63, 327, ]\n",
    "    },\n",
    "    index=[20, 20000, 500000]\n",
    ")\n",
    "\n",
    "df.plot.line()"
   ]
  }
 ],
 "metadata": {
  "kernelspec": {
   "display_name": "Python 3 (ipykernel)",
   "language": "python",
   "name": "python3"
  },
  "language_info": {
   "codemirror_mode": {
    "name": "ipython",
    "version": 3
   },
   "file_extension": ".py",
   "mimetype": "text/x-python",
   "name": "python",
   "nbconvert_exporter": "python",
   "pygments_lexer": "ipython3",
   "version": "3.10.5"
  }
 },
 "nbformat": 4,
 "nbformat_minor": 5
}
