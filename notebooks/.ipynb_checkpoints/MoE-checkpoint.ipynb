{
 "cells": [
  {
   "cell_type": "markdown",
   "metadata": {},
   "source": [
    "# Mixture of Experts (MoE)"
   ]
  },
  {
   "cell_type": "code",
   "execution_count": 1,
   "metadata": {},
   "outputs": [
    {
     "name": "stdout",
     "output_type": "stream",
     "text": [
      "tensor([[0.6499, 0.6035, 0.2683],\n",
      "        [0.0190, 0.7235, 0.1508]])\n"
     ]
    }
   ],
   "source": [
    "import torch\n",
    "from torch import nn\n",
    "from einops import rearrange, reduce\n",
    "\n",
    "x = torch.rand(2,3)\n",
    "print(x)"
   ]
  },
  {
   "cell_type": "code",
   "execution_count": 2,
   "metadata": {},
   "outputs": [],
   "source": [
    "class MLP(nn.Module):\n",
    "    def __init__(\n",
    "        self,\n",
    "        input_size,\n",
    "        layer_size = 64,\n",
    "        heads = 1,\n",
    "        dropout = 0.5,\n",
    "        bias = False\n",
    "    ):\n",
    "        super(MLP, self).__init__()\n",
    "        self.linear = nn.Sequential(\n",
    "            nn.Linear(\n",
    "                input_size,\n",
    "                layer_size,\n",
    "                bias = bias\n",
    "            ),\n",
    "            nn.Dropout(dropout)\n",
    "        )\n",
    "        self.GELU = torch.nn.GELU()\n",
    "\n",
    "    def forward(self, x):\n",
    "        z = self.linear(x)\n",
    "        z = nn.functional.normalize(z, dim=-1)\n",
    "        z = self.GELU(z)\n",
    "        return z"
   ]
  },
  {
   "cell_type": "code",
   "execution_count": 19,
   "metadata": {},
   "outputs": [],
   "source": [
    "class SparseGate(nn.Module):\n",
    "    def __init__(\n",
    "        self,\n",
    "        input_size,\n",
    "        expert_count,\n",
    "        hidden_layers=64,\n",
    "        k = 2,\n",
    "        dropout = 0.5\n",
    "    ):\n",
    "        super(SparseGate, self).__init__()\n",
    "        self.input = nn.Sequential(\n",
    "            nn.Linear(\n",
    "                input_size[-1],\n",
    "                hidden_layers,\n",
    "                bias = False\n",
    "            ),\n",
    "            nn.Dropout(dropout)\n",
    "        )\n",
    "        self.linear = nn.Sequential(\n",
    "            nn.Linear(\n",
    "                hidden_layers,\n",
    "                expert_count,\n",
    "                bias = False\n",
    "            ),\n",
    "            nn.Dropout(dropout)\n",
    "        )\n",
    "        self.output = nn.Sequential(\n",
    "            nn.Linear(\n",
    "                input_size[0],\n",
    "                1,\n",
    "                bias = False\n",
    "            ),\n",
    "            nn.Dropout(dropout)\n",
    "        )\n",
    "        self.softmax = torch.nn.Softmax(dim = -1)\n",
    "        self.k = k\n",
    "        \n",
    "    def forward(self, x):\n",
    "        x = self.input(x)\n",
    "        x = self.linear(x)\n",
    "        x = self.output(x.T)\n",
    "        x = rearrange(x, 'y x -> (y x)')\n",
    "        topk, indices = torch.topk(x, self.k, dim = -1)\n",
    "        topk = self.softmax(topk)\n",
    "        return [(i, t) for i, t in zip(indices, topk)]"
   ]
  },
  {
   "cell_type": "code",
   "execution_count": 20,
   "metadata": {},
   "outputs": [],
   "source": [
    "class MoE(nn.Module):\n",
    "    def __init__(\n",
    "        self,\n",
    "        input_size,\n",
    "        expert_count,\n",
    "        hidden_layers=64,\n",
    "        k = 2,\n",
    "        dropout = 0.5\n",
    "    ):\n",
    "        super(MoE, self).__init__()\n",
    "        self.gate = SparseGate(\n",
    "            input_size,\n",
    "            expert_count,\n",
    "            k = k,\n",
    "            hidden_layers = hidden_layers,\n",
    "            dropout = dropout\n",
    "        )\n",
    "        self.experts = [MLP(input_size[-1]) for _ in range(expert_count)]\n",
    "        \n",
    "    def forward(self, x):\n",
    "        gate = self.gate(x)\n",
    "        y = torch.tensor([])\n",
    "        for i, g in gate:\n",
    "            e = self.experts[i](x) * g\n",
    "            e = rearrange(e, '(k m) d -> k m d', k=1)\n",
    "            y = torch.cat([y, e])\n",
    "        y = reduce(y, 'k m d -> m d', 'sum')\n",
    "        return y"
   ]
  },
  {
   "cell_type": "code",
   "execution_count": 21,
   "metadata": {},
   "outputs": [
    {
     "name": "stdout",
     "output_type": "stream",
     "text": [
      "torch.Size([2, 64])\n",
      "tensor([[ 0.0000,  0.0255,  0.0319,  0.0056,  0.1313,  0.0533, -0.0370,  0.0368,\n",
      "          0.0385,  0.0000, -0.0040,  0.0124,  0.0499,  0.0538,  0.0115, -0.0306,\n",
      "          0.0000, -0.0491,  0.0000, -0.0112, -0.0545,  0.0000, -0.0412, -0.0903,\n",
      "          0.1216, -0.0041,  0.0444, -0.0175, -0.0441,  0.0000, -0.0674,  0.0000,\n",
      "         -0.0255,  0.0149,  0.0142, -0.0036, -0.0241,  0.0515,  0.0000,  0.0000,\n",
      "          0.0000,  0.0190,  0.0000, -0.0450,  0.0632,  0.0000, -0.0550, -0.0311,\n",
      "          0.0466, -0.0263,  0.0750, -0.0436, -0.0452,  0.1023, -0.0096,  0.0000,\n",
      "          0.0000, -0.0422,  0.0210,  0.0045,  0.0057,  0.0000,  0.0609, -0.0098],\n",
      "        [ 0.0000,  0.0166,  0.0000,  0.0214,  0.1489,  0.0000, -0.0344,  0.1235,\n",
      "          0.0220,  0.0000,  0.0000, -0.0533,  0.0149,  0.0772,  0.1256,  0.0000,\n",
      "         -0.0243, -0.0206,  0.0000,  0.0299,  0.0000,  0.0000,  0.0003,  0.0000,\n",
      "          0.1655, -0.0307,  0.0056,  0.0000,  0.0626,  0.0342, -0.0429, -0.0639,\n",
      "         -0.0125,  0.0731, -0.0489,  0.0569,  0.0000,  0.1962, -0.0293,  0.0000,\n",
      "          0.0000,  0.0000,  0.0089, -0.0032,  0.1389,  0.0000, -0.0382,  0.0000,\n",
      "          0.0000,  0.0336,  0.0958,  0.0000, -0.0040, -0.0131,  0.0000, -0.0756,\n",
      "          0.0650, -0.0079, -0.0462,  0.1023,  0.0000, -0.0219,  0.0327,  0.0093]],\n",
      "       grad_fn=<ReshapeAliasBackward0>)\n"
     ]
    }
   ],
   "source": [
    "mlp = MLP(\n",
    "    x.size(-1)\n",
    ")\n",
    "\n",
    "z = mlp(x)\n",
    "print(z.shape)\n",
    "\n",
    "e_count = 10 #Amount of experts\n",
    "\n",
    "moe = MoE(\n",
    "    z.size(),\n",
    "    e_count,\n",
    "    hidden_layers=64,\n",
    "    k = 2,\n",
    "    dropout = 0.5\n",
    ")\n",
    "\n",
    "print(moe(z))"
   ]
  },
  {
   "cell_type": "code",
   "execution_count": null,
   "metadata": {},
   "outputs": [],
   "source": []
  }
 ],
 "metadata": {
  "kernelspec": {
   "display_name": "Python 3 (ipykernel)",
   "language": "python",
   "name": "python3"
  },
  "language_info": {
   "codemirror_mode": {
    "name": "ipython",
    "version": 3
   },
   "file_extension": ".py",
   "mimetype": "text/x-python",
   "name": "python",
   "nbconvert_exporter": "python",
   "pygments_lexer": "ipython3",
   "version": "3.8.9"
  }
 },
 "nbformat": 4,
 "nbformat_minor": 4
}
