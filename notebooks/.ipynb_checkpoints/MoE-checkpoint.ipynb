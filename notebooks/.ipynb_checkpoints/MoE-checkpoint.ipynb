{
 "cells": [
  {
   "cell_type": "markdown",
   "metadata": {},
   "source": [
    "# Mixture of Experts (MoE)"
   ]
  },
  {
   "cell_type": "code",
   "execution_count": 1,
   "metadata": {},
   "outputs": [
    {
     "name": "stdout",
     "output_type": "stream",
     "text": [
      "tensor([[0.2868, 0.7317, 0.8240],\n",
      "        [0.8960, 0.6777, 0.3623]])\n"
     ]
    }
   ],
   "source": [
    "import torch\n",
    "from torch import nn\n",
    "from einops import rearrange\n",
    "\n",
    "x = torch.rand(2,3)\n",
    "print(x)"
   ]
  },
  {
   "cell_type": "code",
   "execution_count": 2,
   "metadata": {},
   "outputs": [],
   "source": [
    "class MLP(nn.Module):\n",
    "    def __init__(\n",
    "        self,\n",
    "        input_size,\n",
    "        layer_size = 64,\n",
    "        heads = 1,\n",
    "        dropout = 0.5,\n",
    "        bias = False\n",
    "    ):\n",
    "        super(MLP, self).__init__()\n",
    "        self.linear = nn.Sequential(\n",
    "            nn.Linear(\n",
    "                input_size,\n",
    "                layer_size,\n",
    "                bias = bias\n",
    "            ),\n",
    "            nn.Dropout(dropout)\n",
    "        )\n",
    "        self.GELU = torch.nn.GELU()\n",
    "\n",
    "    def forward(self, x):\n",
    "        z = self.linear(x)\n",
    "        z = nn.functional.normalize(z, dim=-1)\n",
    "        z = self.GELU(z)\n",
    "        return z"
   ]
  },
  {
   "cell_type": "code",
   "execution_count": 3,
   "metadata": {},
   "outputs": [],
   "source": [
    "class SparseGate(nn.Module):\n",
    "    def __init__(\n",
    "        self,\n",
    "        input_size,\n",
    "        expert_count,\n",
    "        hidden_layers=64,\n",
    "        k = 2,\n",
    "        dropout = 0.5\n",
    "    ):\n",
    "        super(SparseGate, self).__init__()\n",
    "        self.input = nn.Sequential(\n",
    "            nn.Linear(\n",
    "                input_size[-1],\n",
    "                hidden_layers,\n",
    "                bias = True\n",
    "            ),\n",
    "            nn.Dropout(dropout)\n",
    "        )\n",
    "        self.linear = nn.Sequential(\n",
    "            nn.Linear(\n",
    "                hidden_layers,\n",
    "                expert_count,\n",
    "                bias = True\n",
    "            ),\n",
    "            nn.Dropout(dropout)\n",
    "        )\n",
    "        self.output = nn.Sequential(\n",
    "            nn.Linear(\n",
    "                input_size[0],\n",
    "                1,\n",
    "                bias = False\n",
    "            ),\n",
    "            nn.Dropout(dropout)\n",
    "        )\n",
    "        self.softmax = torch.nn.Softmax(dim = -1)\n",
    "        self.k = k\n",
    "        \n",
    "    def forward(self, x):\n",
    "        x = self.input(x)\n",
    "        x = self.linear(x)\n",
    "        x = self.output(x.T)\n",
    "        x = rearrange(x, 'y x -> (y x)')\n",
    "        print(x)\n",
    "        topk, indices = torch.topk(x, self.k, dim = -1)\n",
    "        z = torch.zeros_like(x)\n",
    "        z[indices] = topk\n",
    "        z = self.softmax(z)\n",
    "        return z"
   ]
  },
  {
   "cell_type": "code",
   "execution_count": 4,
   "metadata": {},
   "outputs": [
    {
     "name": "stdout",
     "output_type": "stream",
     "text": [
      "torch.Size([2, 64])\n",
      "tensor([ 0.0401, -0.0063,  0.0000, -0.0000,  0.0000,  0.0000, -0.0216,  0.0000,\n",
      "        -0.0371, -0.0848], grad_fn=<ReshapeAliasBackward0>)\n",
      "tensor([0.1037, 0.0996, 0.0996, 0.0996, 0.0996, 0.0996, 0.0996, 0.0996, 0.0996,\n",
      "        0.0996], grad_fn=<SoftmaxBackward0>)\n"
     ]
    }
   ],
   "source": [
    "mlp = MLP(\n",
    "    x.size(-1)\n",
    ")\n",
    "\n",
    "z = mlp(x)\n",
    "print(z.shape)\n",
    "\n",
    "router = SparseGate(\n",
    "    z.size(),\n",
    "    10,\n",
    "    k = 3,\n",
    "    hidden_layers = 20\n",
    ")\n",
    "\n",
    "r = router(z)\n",
    "print(r)"
   ]
  },
  {
   "cell_type": "code",
   "execution_count": null,
   "metadata": {},
   "outputs": [],
   "source": []
  }
 ],
 "metadata": {
  "kernelspec": {
   "display_name": "Python 3 (ipykernel)",
   "language": "python",
   "name": "python3"
  },
  "language_info": {
   "codemirror_mode": {
    "name": "ipython",
    "version": 3
   },
   "file_extension": ".py",
   "mimetype": "text/x-python",
   "name": "python",
   "nbconvert_exporter": "python",
   "pygments_lexer": "ipython3",
   "version": "3.8.9"
  }
 },
 "nbformat": 4,
 "nbformat_minor": 4
}
