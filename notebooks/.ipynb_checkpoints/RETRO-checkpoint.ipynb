{
 "cells": [
  {
   "cell_type": "markdown",
   "metadata": {},
   "source": [
    "# RETRO Transformer"
   ]
  },
  {
   "cell_type": "code",
   "execution_count": 1,
   "metadata": {},
   "outputs": [
    {
     "name": "stdout",
     "output_type": "stream",
     "text": [
      "[ 1 17 17 13 18  6 16 14 10 19  6  8]\n"
     ]
    }
   ],
   "source": [
    "import numpy as np\n",
    "import pandas as pd\n",
    "from einops import rearrange\n",
    "\n",
    "n = 12 #Sequence length\n",
    "m = 4 #Chunk length\n",
    "k = 2 #Amount of neighbours\n",
    "r = 5 #Retrieval length\n",
    "d = 2 #Embedding size\n",
    "l = n // m #Number of chunks\n",
    "t = 50 #Amount of tokens in db\n",
    "\n",
    "observation = np.random.randint(20, size=n) #Input tokens\n",
    "print(observation)"
   ]
  },
  {
   "cell_type": "markdown",
   "metadata": {},
   "source": [
    "## Simple Cross Attention"
   ]
  },
  {
   "cell_type": "code",
   "execution_count": 2,
   "metadata": {},
   "outputs": [],
   "source": [
    "# Parameters\n",
    "Q = np.random.rand(d, d)\n",
    "K = np.random.rand(d, d)\n",
    "V = np.random.rand(d, d)\n",
    "\n",
    "def cross_attention(chunk, neighbour):\n",
    "    m, d = chunk.shape\n",
    "    r, d = neighbour.shape\n",
    "    queries = chunk @ Q\n",
    "    keys = neighbour @ K\n",
    "    logits = queries @ keys.T\n",
    "    values = neighbour @ V\n",
    "    return logits, values"
   ]
  },
  {
   "cell_type": "markdown",
   "metadata": {},
   "source": [
    "## Encoding Retieval Neighbours"
   ]
  },
  {
   "cell_type": "code",
   "execution_count": 3,
   "metadata": {},
   "outputs": [
    {
     "name": "stdout",
     "output_type": "stream",
     "text": [
      "[[[[0.72627626 0.69640847]\n",
      "   [0.79771818 0.96784303]\n",
      "   [0.41696126 0.23104722]\n",
      "   [0.4148379  0.95539144]\n",
      "   [0.68394057 0.88011938]]\n",
      "\n",
      "  [[0.95287077 0.54908301]\n",
      "   [0.68765086 0.69967441]\n",
      "   [0.69018987 0.73420044]\n",
      "   [0.89662106 0.60559892]\n",
      "   [0.11098833 0.87013054]]]\n",
      "\n",
      "\n",
      " [[[0.29107286 0.9738282 ]\n",
      "   [0.71244298 0.83815869]\n",
      "   [0.91200024 0.61318898]\n",
      "   [0.95785755 0.33630849]\n",
      "   [0.47283201 0.47253173]]\n",
      "\n",
      "  [[0.63384602 0.64709807]\n",
      "   [0.44488637 0.5859764 ]\n",
      "   [0.60126837 0.01433879]\n",
      "   [0.97907421 0.67971735]\n",
      "   [0.57075785 0.90273128]]]\n",
      "\n",
      "\n",
      " [[[0.72627626 0.69640847]\n",
      "   [0.79771818 0.96784303]\n",
      "   [0.41696126 0.23104722]\n",
      "   [0.4148379  0.95539144]\n",
      "   [0.68394057 0.88011938]]\n",
      "\n",
      "  [[0.99519497 0.74562685]\n",
      "   [0.50458975 0.41662138]\n",
      "   [0.03121673 0.26845577]\n",
      "   [0.93366058 0.28078022]\n",
      "   [0.9971926  0.80670763]]]]\n",
      "(3, 2, 5, 2)\n"
     ]
    }
   ],
   "source": [
    "chunks = rearrange(observation, '(l m) -> l m', l=l)\n",
    "#print(chunks.shape)\n",
    "\n",
    "encoder = np.random.rand(l, r, d) #Encoder for db\n",
    "#print(encoder.shape)\n",
    "\n",
    "chunks = np.einsum('l m, l r d -> l r d', chunks, encoder)\n",
    "#print(chunks.shape)\n",
    "\n",
    "e_db = []\n",
    "for emb in np.random.rand(t, r, d):\n",
    "    e_db.append([emb.tolist()])\n",
    "e_db = pd.DataFrame(e_db)\n",
    "\n",
    "neighbours = []\n",
    "for chunk in chunks:\n",
    "    e_db['L2'] = e_db.apply(lambda x:np.linalg.norm(chunk - np.array(x[0])), axis=1)\n",
    "    neighbours.append(np.array(e_db.nsmallest(k, ['L2'])[0].tolist()))\n",
    "neighbours = np.array(neighbours)\n",
    "#print(neighbours.shape)\n",
    "\n",
    "print(neighbours)\n",
    "print(neighbours.shape)"
   ]
  },
  {
   "cell_type": "markdown",
   "metadata": {},
   "source": [
    "## Chunked Cross Attention"
   ]
  },
  {
   "cell_type": "code",
   "execution_count": 4,
   "metadata": {},
   "outputs": [
    {
     "name": "stdout",
     "output_type": "stream",
     "text": [
      "(4, 2)\n",
      "(4, 2)\n",
      "(4, 2)\n",
      "[[0.30434409 0.99506272]\n",
      " [0.06797578 0.54649592]\n",
      " [0.18044656 0.05797994]\n",
      " [1.27454794 0.41996431]\n",
      " [1.23899826 0.40984806]\n",
      " [0.9377841  0.3097083 ]\n",
      " [1.68848659 0.55777549]\n",
      " [0.86294254 0.2952999 ]\n",
      " [1.37600583 0.4725025 ]\n",
      " [1.2810158  0.4418134 ]\n",
      " [1.12157343 0.38658226]\n",
      " [0.6683455  0.22990195]]\n"
     ]
    }
   ],
   "source": [
    "emb = np.random.rand(n, d) #Embedded input tokens\n",
    "\n",
    "attending_chunks = np.pad(emb[m-1:], ((0, m - 1), (0, 0)), mode='constant').reshape(l, m, d)\n",
    "\n",
    "chunked_output = []\n",
    "for u in range(l):\n",
    "    chunk = attending_chunks[u]\n",
    "    c_neighbours = neighbours[u]\n",
    "    logits = []\n",
    "    values = []\n",
    "    for neighbour in c_neighbours:\n",
    "        logit, value = cross_attention(chunk, neighbour)\n",
    "        logits.append(logit)\n",
    "        values.append(value)\n",
    "    logits = np.array(logits)\n",
    "    values = np.array(values)\n",
    "    #logits += relative_positional_encodings(m, r)[None, :, :]\n",
    "    logits = np.moveaxis(logits, 0, -1).reshape((m, r * k))\n",
    "    values = np.moveaxis(values, 0, 1).reshape((r * k, d))\n",
    "    print((logits @ values).shape)\n",
    "    chunked_output.append(logits @ values)\n",
    "chunked_output = np.array(chunked_output)\n",
    "\n",
    "output = np.pad(chunked_output.reshape(n, d),((m - 1, 0), (0, 0)), mode='constant')[:n]\n",
    "#First chunk\n",
    "output[:m-1] = emb[:m-1]\n",
    "\n",
    "\n",
    "#Last row of final chunk\n",
    "logits = []\n",
    "values = []\n",
    "for neighbour in neighbours[l - 2]: #Use last neighbour\n",
    "    logit, value = cross_attention(np.array([emb[-1]]), neighbour)\n",
    "    logits.append(logit)\n",
    "    values.append(value)\n",
    "logits = np.moveaxis(np.array(logits), 0, -1).reshape((1, r * k))\n",
    "values = np.moveaxis(np.array(values), 0, 1).reshape((r * k, d))\n",
    "output[-1] = logits @ values\n",
    "#print(output[-1])\n",
    "\n",
    "\n",
    "#print(hash(str(output)))\n",
    "print(output)"
   ]
  },
  {
   "cell_type": "code",
   "execution_count": null,
   "metadata": {},
   "outputs": [],
   "source": []
  }
 ],
 "metadata": {
  "kernelspec": {
   "display_name": "Python 3",
   "language": "python",
   "name": "python3"
  },
  "language_info": {
   "codemirror_mode": {
    "name": "ipython",
    "version": 3
   },
   "file_extension": ".py",
   "mimetype": "text/x-python",
   "name": "python",
   "nbconvert_exporter": "python",
   "pygments_lexer": "ipython3",
   "version": "3.7.9"
  }
 },
 "nbformat": 4,
 "nbformat_minor": 4
}
