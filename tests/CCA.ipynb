{
 "cells": [
  {
   "cell_type": "markdown",
   "metadata": {},
   "source": [
    "# RETRO Transformer"
   ]
  },
  {
   "cell_type": "code",
   "execution_count": 103,
   "metadata": {},
   "outputs": [
    {
     "name": "stdout",
     "output_type": "stream",
     "text": [
      "[ 5 19  9 19  3  7 13  2 10 16  9 15]\n"
     ]
    }
   ],
   "source": [
    "import numpy as np\n",
    "from einops import rearrange\n",
    "\n",
    "n = 12 #Sequence length\n",
    "m = 4 #Chunk length\n",
    "k = 2 #Amount of neighbours\n",
    "r = 5 #Retrieval length\n",
    "d = 2 #Embedding size\n",
    "l = n // m #Number of chunks\n",
    "t = 50 #Amount of tokens in db\n",
    "\n",
    "observation = np.random.randint(20, size=n) #Input tokens\n",
    "#print(hash(str(observation)))\n",
    "print(observation)"
   ]
  },
  {
   "cell_type": "markdown",
   "metadata": {},
   "source": [
    "## Simple Cross Attention"
   ]
  },
  {
   "cell_type": "code",
   "execution_count": 2,
   "metadata": {},
   "outputs": [],
   "source": [
    "# Parameters\n",
    "Q = np.random.rand(d, d)\n",
    "K = np.random.rand(d, d)\n",
    "V = np.random.rand(d, d)\n",
    "\n",
    "def cross_attention(chunk, neighbour):\n",
    "    m, d = chunk.shape\n",
    "    r, d = neighbour.shape\n",
    "    queries = chunk @ Q\n",
    "    keys = neighbour @ K\n",
    "    logits = queries @ keys.T\n",
    "    values = neighbour @ V\n",
    "    return logits, values"
   ]
  },
  {
   "cell_type": "markdown",
   "metadata": {},
   "source": [
    "## Encoding Retieval Neighbours"
   ]
  },
  {
   "cell_type": "code",
   "execution_count": 161,
   "metadata": {},
   "outputs": [
    {
     "name": "stdout",
     "output_type": "stream",
     "text": [
      "(3, 4)\n",
      "(12, 2)\n",
      "(3, 4, 2)\n",
      "[[0.00757536 0.14117046]\n",
      " [0.76278522 0.5859058 ]\n",
      " [0.46637889 0.27466621]\n",
      " [0.13247688 0.43279845]]\n",
      "[0.07437291 0.67434551 0.37052255 0.28263767]\n",
      "(5, 2)\n",
      "(3, 4, 5)\n",
      "(50, 4, 5)\n",
      "(3, 2, 5, 2)\n",
      "(3, 2, 5, 2)\n"
     ]
    }
   ],
   "source": [
    "chunks = rearrange(observation, '(l m) -> l m', l=l)\n",
    "print(chunks.shape)\n",
    "\n",
    "emb = np.random.rand(n, d) #Embedded input token for neighbour look up\n",
    "\n",
    "print(emb.shape)\n",
    "\n",
    "chunks = rearrange(emb, '(l m) d -> l m d', l=l)\n",
    "print(chunks.shape)\n",
    "\n",
    "for chunk in chunks:\n",
    "    print(chunk)\n",
    "    print(np.average(chunk, axis=-1))\n",
    "    break\n",
    "\n",
    "encoder = np.random.rand(r, d)\n",
    "print(encoder.shape)\n",
    "\n",
    "chunks = chunks @ encoder.T\n",
    "print(chunks.shape)\n",
    "\n",
    "print(np.random.rand(t, m, r).shape)\n",
    "\n",
    "chunks = np.random.rand(l, r, d)\n",
    "\n",
    "e_db = []\n",
    "for emb in np.random.rand(t, r, d):\n",
    "    e_db.append([emb.tolist()])\n",
    "e_db = pd.DataFrame(e_db)\n",
    "\n",
    "neighbours = []\n",
    "for chunk in chunks:\n",
    "    e_db['L2'] = e_db.apply(lambda x:np.linalg.norm(chunk - np.array(x[0])), axis=1)\n",
    "    neighbours.append(np.array(e_db.nsmallest(k, ['L2'])[0].tolist()))\n",
    "neighbours = np.array(neighbours)\n",
    "#print(neighbours)\n",
    "print(neighbours.shape)\n",
    "\n",
    "\n",
    "neighbours = np.random.rand(l, k, r, d)\n",
    "print(neighbours.shape)\n",
    "#print(hash(str(neighbours)))\n",
    "#print(neighbours)"
   ]
  },
  {
   "cell_type": "markdown",
   "metadata": {},
   "source": [
    "## Chunked Cross Attention"
   ]
  },
  {
   "cell_type": "code",
   "execution_count": 131,
   "metadata": {},
   "outputs": [
    {
     "name": "stdout",
     "output_type": "stream",
     "text": [
      "[[0.29622797 0.09046281]\n",
      " [0.45159562 0.22896399]\n",
      " [0.48413135 0.98606863]\n",
      " [2.43451523 2.03354707]\n",
      " [2.26553565 1.89220968]\n",
      " [1.7816741  1.499658  ]\n",
      " [1.54208971 1.30197663]\n",
      " [1.42007009 1.16246011]\n",
      " [2.59844625 2.21883448]\n",
      " [1.52687094 1.28589585]\n",
      " [2.01497182 1.65951107]\n",
      " [0.81804246 0.58353684]]\n"
     ]
    }
   ],
   "source": [
    "emb = np.random.rand(n, d) #Embedded input tokens\n",
    "\n",
    "attending_chunks = np.pad(emb[m-1:], ((0, m - 1), (0, 0)), mode='constant').reshape(l, m, d)\n",
    "\n",
    "chunked_output = []\n",
    "for u in range(l):\n",
    "    chunk = attending_chunks[u]\n",
    "    c_neighbours = neighbours[u]\n",
    "    logits = []\n",
    "    values = []\n",
    "    for neighbour in c_neighbours:\n",
    "        logit, value = cross_attention(chunk, neighbour)\n",
    "        logits.append(logit)\n",
    "        values.append(value)\n",
    "    logits = np.array(logits)\n",
    "    values = np.array(values)\n",
    "    #logits += relative_positional_encodings(m, r)[None, :, :]\n",
    "    logits = np.moveaxis(logits, 0, -1).reshape((m, r * k))\n",
    "    values = np.moveaxis(values, 0, 1).reshape((r * k, d))\n",
    "    chunked_output.append(logits @ values)\n",
    "chunked_output = np.array(chunked_output)\n",
    "\n",
    "output = np.pad(chunked_output.reshape(n, d),((m - 1, 0), (0, 0)), mode='constant')[:n]\n",
    "\n",
    "#First chunk\n",
    "output[:m-1] = emb[:m-1]\n",
    "\n",
    "#Last row of final chunk\n",
    "logits = []\n",
    "values = []\n",
    "for neighbour in neighbours[-1]:\n",
    "    logit, value = cross_attention(np.array([emb[-1]]), neighbour)\n",
    "    logits.append(logit)\n",
    "    values.append(value)\n",
    "logits = np.moveaxis(np.array(logits), 0, -1).reshape((1, r * k))\n",
    "values = np.moveaxis(np.array(values), 0, 1).reshape((r * k, d))\n",
    "output[-1] = logits @ values\n",
    "\n",
    "#print(hash(str(output)))\n",
    "print(output)"
   ]
  },
  {
   "cell_type": "code",
   "execution_count": null,
   "metadata": {},
   "outputs": [],
   "source": []
  }
 ],
 "metadata": {
  "kernelspec": {
   "display_name": "Python 3",
   "language": "python",
   "name": "python3"
  },
  "language_info": {
   "codemirror_mode": {
    "name": "ipython",
    "version": 3
   },
   "file_extension": ".py",
   "mimetype": "text/x-python",
   "name": "python",
   "nbconvert_exporter": "python",
   "pygments_lexer": "ipython3",
   "version": "3.6.8"
  }
 },
 "nbformat": 4,
 "nbformat_minor": 4
}
