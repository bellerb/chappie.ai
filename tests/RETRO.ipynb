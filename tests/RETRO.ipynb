{
 "cells": [
  {
   "cell_type": "markdown",
   "metadata": {},
   "source": [
    "# RETRO Transformer"
   ]
  },
  {
   "cell_type": "code",
   "execution_count": 1,
   "metadata": {},
   "outputs": [
    {
     "name": "stdout",
     "output_type": "stream",
     "text": [
      "[13 11 14 19  2 10 14 17 11  7 16 16]\n"
     ]
    }
   ],
   "source": [
    "import numpy as np\n",
    "import pandas as pd\n",
    "from einops import rearrange\n",
    "\n",
    "n = 12 #Sequence length\n",
    "m = 4 #Chunk length\n",
    "k = 2 #Amount of neighbours\n",
    "r = 5 #Retrieval length\n",
    "d = 2 #Embedding size\n",
    "l = n // m #Number of chunks\n",
    "t = 50 #Amount of tokens in db\n",
    "\n",
    "observation = np.random.randint(20, size=n) #Input tokens\n",
    "print(observation)"
   ]
  },
  {
   "cell_type": "markdown",
   "metadata": {},
   "source": [
    "## Simple Cross Attention"
   ]
  },
  {
   "cell_type": "code",
   "execution_count": 2,
   "metadata": {},
   "outputs": [],
   "source": [
    "# Parameters\n",
    "Q = np.random.rand(d, d)\n",
    "K = np.random.rand(d, d)\n",
    "V = np.random.rand(d, d)\n",
    "\n",
    "def cross_attention(chunk, neighbour):\n",
    "    m, d = chunk.shape\n",
    "    r, d = neighbour.shape\n",
    "    queries = chunk @ Q\n",
    "    keys = neighbour @ K\n",
    "    logits = queries @ keys.T\n",
    "    values = neighbour @ V\n",
    "    return logits, values"
   ]
  },
  {
   "cell_type": "markdown",
   "metadata": {},
   "source": [
    "## Encoding Retieval Neighbours"
   ]
  },
  {
   "cell_type": "code",
   "execution_count": 27,
   "metadata": {},
   "outputs": [
    {
     "name": "stdout",
     "output_type": "stream",
     "text": [
      "[[[[0.79976294 0.92299711]\n",
      "   [0.89373073 0.9868527 ]\n",
      "   [0.75857937 0.42092545]\n",
      "   [0.59648677 0.42693725]\n",
      "   [0.86557815 0.86846375]]\n",
      "\n",
      "  [[0.94922426 0.52133696]\n",
      "   [0.87750427 0.45189972]\n",
      "   [0.67481455 0.36332083]\n",
      "   [0.83368245 0.28567799]\n",
      "   [0.49969988 0.82094618]]]\n",
      "\n",
      "\n",
      " [[[0.79976294 0.92299711]\n",
      "   [0.89373073 0.9868527 ]\n",
      "   [0.75857937 0.42092545]\n",
      "   [0.59648677 0.42693725]\n",
      "   [0.86557815 0.86846375]]\n",
      "\n",
      "  [[0.77412505 0.21061206]\n",
      "   [0.99260561 0.79865708]\n",
      "   [0.39562119 0.82705474]\n",
      "   [0.86144231 0.55268223]\n",
      "   [0.85843361 0.29968387]]]\n",
      "\n",
      "\n",
      " [[[0.79976294 0.92299711]\n",
      "   [0.89373073 0.9868527 ]\n",
      "   [0.75857937 0.42092545]\n",
      "   [0.59648677 0.42693725]\n",
      "   [0.86557815 0.86846375]]\n",
      "\n",
      "  [[0.77412505 0.21061206]\n",
      "   [0.99260561 0.79865708]\n",
      "   [0.39562119 0.82705474]\n",
      "   [0.86144231 0.55268223]\n",
      "   [0.85843361 0.29968387]]]]\n"
     ]
    }
   ],
   "source": [
    "chunks = rearrange(observation, '(l m) -> l m', l=l)\n",
    "#print(chunks.shape)\n",
    "\n",
    "encoder = np.random.rand(l, r, d) #Encoder for db\n",
    "#print(encoder.shape)\n",
    "\n",
    "chunks = np.einsum('l m, l r d -> l r d', chunks, encoder)\n",
    "#print(chunks.shape)\n",
    "\n",
    "e_db = []\n",
    "for emb in np.random.rand(t, r, d):\n",
    "    e_db.append([emb.tolist()])\n",
    "e_db = pd.DataFrame(e_db)\n",
    "\n",
    "neighbours = []\n",
    "for chunk in chunks:\n",
    "    e_db['L2'] = e_db.apply(lambda x:np.linalg.norm(chunk - np.array(x[0])), axis=1)\n",
    "    neighbours.append(np.array(e_db.nsmallest(k, ['L2'])[0].tolist()))\n",
    "neighbours = np.array(neighbours)\n",
    "#print(neighbours.shape)\n",
    "\n",
    "print(neighbours)"
   ]
  },
  {
   "cell_type": "markdown",
   "metadata": {},
   "source": [
    "## Chunked Cross Attention"
   ]
  },
  {
   "cell_type": "code",
   "execution_count": 29,
   "metadata": {},
   "outputs": [
    {
     "name": "stdout",
     "output_type": "stream",
     "text": [
      "[[0.37655074 0.69084134]\n",
      " [0.77894148 0.19423186]\n",
      " [0.12194683 0.49915636]\n",
      " [1.52714816 5.52665238]\n",
      " [1.52287772 5.50376214]\n",
      " [0.72356996 2.61723092]\n",
      " [1.52918793 5.53094029]\n",
      " [1.43724882 5.11947121]\n",
      " [2.13782346 7.6177986 ]\n",
      " [0.94567979 3.36352919]\n",
      " [0.91118843 3.2356434 ]\n",
      " [1.31682943 4.68828308]]\n"
     ]
    }
   ],
   "source": [
    "emb = np.random.rand(n, d) #Embedded input tokens\n",
    "\n",
    "attending_chunks = np.pad(emb[m-1:], ((0, m - 1), (0, 0)), mode='constant').reshape(l, m, d)\n",
    "\n",
    "chunked_output = []\n",
    "for u in range(l):\n",
    "    chunk = attending_chunks[u]\n",
    "    c_neighbours = neighbours[u]\n",
    "    logits = []\n",
    "    values = []\n",
    "    for neighbour in c_neighbours:\n",
    "        logit, value = cross_attention(chunk, neighbour)\n",
    "        logits.append(logit)\n",
    "        values.append(value)\n",
    "    logits = np.array(logits)\n",
    "    values = np.array(values)\n",
    "    #logits += relative_positional_encodings(m, r)[None, :, :]\n",
    "    logits = np.moveaxis(logits, 0, -1).reshape((m, r * k))\n",
    "    values = np.moveaxis(values, 0, 1).reshape((r * k, d))\n",
    "    chunked_output.append(logits @ values)\n",
    "chunked_output = np.array(chunked_output)\n",
    "\n",
    "output = np.pad(chunked_output.reshape(n, d),((m - 1, 0), (0, 0)), mode='constant')[:n]\n",
    "#First chunk\n",
    "output[:m-1] = emb[:m-1]\n",
    "\n",
    "\n",
    "#Last row of final chunk\n",
    "logits = []\n",
    "values = []\n",
    "for neighbour in neighbours[l - 2]: #Use last neighbour\n",
    "    logit, value = cross_attention(np.array([emb[-1]]), neighbour)\n",
    "    logits.append(logit)\n",
    "    values.append(value)\n",
    "logits = np.moveaxis(np.array(logits), 0, -1).reshape((1, r * k))\n",
    "values = np.moveaxis(np.array(values), 0, 1).reshape((r * k, d))\n",
    "output[-1] = logits @ values\n",
    "#print(output[-1])\n",
    "\n",
    "\n",
    "#print(hash(str(output)))\n",
    "print(output)"
   ]
  },
  {
   "cell_type": "code",
   "execution_count": null,
   "metadata": {},
   "outputs": [],
   "source": []
  }
 ],
 "metadata": {
  "kernelspec": {
   "display_name": "Python 3",
   "language": "python",
   "name": "python3"
  },
  "language_info": {
   "codemirror_mode": {
    "name": "ipython",
    "version": 3
   },
   "file_extension": ".py",
   "mimetype": "text/x-python",
   "name": "python",
   "nbconvert_exporter": "python",
   "pygments_lexer": "ipython3",
   "version": "3.6.8"
  }
 },
 "nbformat": 4,
 "nbformat_minor": 4
}
