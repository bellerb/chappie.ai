{
 "cells": [
  {
   "cell_type": "markdown",
   "metadata": {},
   "source": [
    "# RETRO Transformer"
   ]
  },
  {
   "cell_type": "code",
   "execution_count": 5,
   "metadata": {},
   "outputs": [
    {
     "name": "stdout",
     "output_type": "stream",
     "text": [
      "[[0.34436241 0.37406753]\n",
      " [0.15645653 0.6920059 ]\n",
      " [0.41509948 0.56976514]\n",
      " [0.73416264 0.80577888]\n",
      " [0.03109859 0.8786712 ]\n",
      " [0.4192683  0.5561915 ]\n",
      " [0.2903888  0.23452864]\n",
      " [0.42214147 0.41872855]\n",
      " [0.17304639 0.12566048]\n",
      " [0.18654496 0.99388621]\n",
      " [0.53282135 0.83040245]\n",
      " [0.00402069 0.48227176]]\n"
     ]
    }
   ],
   "source": [
    "import numpy as np\n",
    "from einops import rearrange\n",
    "\n",
    "n = 12 #Sequence length\n",
    "m = 4 #Chunk length\n",
    "k = 2 #Amount of neighbours\n",
    "r = 5 #Retrieval length\n",
    "d = 2 #Embedding size\n",
    "l = n // m #Number of chunks\n",
    "\n",
    "observation = np.random.rand(n, d) #Input data\n",
    "#print(hash(str(observation)))\n",
    "print(observation)"
   ]
  },
  {
   "cell_type": "code",
   "execution_count": 2,
   "metadata": {},
   "outputs": [],
   "source": [
    "# Parameters\n",
    "Q = np.random.rand(d, d)\n",
    "K = np.random.rand(d, d)\n",
    "V = np.random.rand(d, d)\n",
    "\n",
    "def cross_attention(chunk, neighbour):\n",
    "    m, d = chunk.shape\n",
    "    r, d = neighbour.shape\n",
    "    queries = chunk @ Q\n",
    "    keys = neighbour @ K\n",
    "    logits = queries @ keys.T\n",
    "    values = neighbour @ V\n",
    "    return logits, values"
   ]
  },
  {
   "cell_type": "markdown",
   "metadata": {},
   "source": [
    "## Encoding Retieval Neighbours"
   ]
  },
  {
   "cell_type": "code",
   "execution_count": 6,
   "metadata": {},
   "outputs": [
    {
     "name": "stdout",
     "output_type": "stream",
     "text": [
      "[[[[0.32461632 0.54865897]\n",
      "   [0.92194059 0.65330148]\n",
      "   [0.15434714 0.86144158]\n",
      "   [0.34961148 0.40062833]\n",
      "   [0.31893657 0.41166529]]\n",
      "\n",
      "  [[0.20017308 0.64332549]\n",
      "   [0.5328855  0.26695701]\n",
      "   [0.09165474 0.91876226]\n",
      "   [0.46785621 0.56646182]\n",
      "   [0.31808915 0.45808314]]]\n",
      "\n",
      "\n",
      " [[[0.53630748 0.29439516]\n",
      "   [0.85420452 0.02874575]\n",
      "   [0.54641079 0.25959703]\n",
      "   [0.7718861  0.25873036]\n",
      "   [0.73233494 0.43678262]]\n",
      "\n",
      "  [[0.19063246 0.61184029]\n",
      "   [0.91917042 0.99544409]\n",
      "   [0.27038337 0.09932637]\n",
      "   [0.25144593 0.89861245]\n",
      "   [0.04431888 0.78519688]]]\n",
      "\n",
      "\n",
      " [[[0.72828598 0.72217343]\n",
      "   [0.51168345 0.09565324]\n",
      "   [0.49437625 0.18698449]\n",
      "   [0.01310741 0.37222562]\n",
      "   [0.55598886 0.84819936]]\n",
      "\n",
      "  [[0.93725932 0.28173065]\n",
      "   [0.89636889 0.40609561]\n",
      "   [0.09683494 0.05406874]\n",
      "   [0.92592465 0.65330892]\n",
      "   [0.31067811 0.76946625]]]]\n"
     ]
    }
   ],
   "source": [
    "#Get k-nearest neighbours\n",
    "chunks = rearrange(observation, '(l m) d -> l m d', l=l)\n",
    "#print(chunks.shape)\n",
    "\n",
    "n_chunk = chunks[:-1]\n",
    "#print(n_chunk.shape)\n",
    "\n",
    "neighbours = np.random.rand(l, k, r, d)\n",
    "#print(hash(str(neighbours)))\n",
    "print(neighbours)"
   ]
  },
  {
   "cell_type": "markdown",
   "metadata": {},
   "source": [
    "## Chunked Cross Attention"
   ]
  },
  {
   "cell_type": "code",
   "execution_count": 4,
   "metadata": {},
   "outputs": [
    {
     "name": "stdout",
     "output_type": "stream",
     "text": [
      "[[0.07996373 0.06450442]\n",
      " [0.82423691 0.3825449 ]\n",
      " [0.64634458 0.26694494]\n",
      " [1.79499304 2.76881043]\n",
      " [1.2515339  1.93063008]\n",
      " [0.74511727 1.14694873]\n",
      " [1.9454078  3.00187902]\n",
      " [2.0371975  2.98876332]\n",
      " [1.07197414 1.57225073]\n",
      " [1.33908344 1.96359641]\n",
      " [3.13173358 4.59609942]\n",
      " [3.79941571 5.81025084]]\n"
     ]
    }
   ],
   "source": [
    "attending_chunks = np.pad(observation[m-1:], ((0, m - 1), (0, 0)), mode='constant').reshape(l, m, d)\n",
    "\n",
    "chunked_output = []\n",
    "for u in range(l):\n",
    "    chunk = attending_chunks[u]\n",
    "    c_neighbours = neighbours[u]\n",
    "    logits = []\n",
    "    values = []\n",
    "    for neighbour in c_neighbours:\n",
    "        logit, value = cross_attention(chunk, neighbour)\n",
    "        logits.append(logit)\n",
    "        values.append(value)\n",
    "    logits = np.array(logits)\n",
    "    values = np.array(values)\n",
    "    #logits += relative_positional_encodings(m, r)[None, :, :]\n",
    "    logits = np.moveaxis(logits, 0, -1).reshape((m, r * k))\n",
    "    values = np.moveaxis(values, 0, 1).reshape((r * k, d))\n",
    "    chunked_output.append(logits @ values)\n",
    "chunked_output = np.array(chunked_output)\n",
    "\n",
    "output = np.pad(chunked_output.reshape(n, d),((m - 1, 0), (0, 0)), mode='constant')[:n]\n",
    "\n",
    "#First chunk\n",
    "output[:m-1] = observation[:m-1]\n",
    "\n",
    "#Last row of final chunk\n",
    "logits = []\n",
    "values = []\n",
    "for neighbour in neighbours[-1]:\n",
    "    logit, value = cross_attention(np.array([observation[-1]]), neighbour)\n",
    "    logits.append(logit)\n",
    "    values.append(value)\n",
    "logits = np.moveaxis(np.array(logits), 0, -1).reshape((1, r * k))\n",
    "values = np.moveaxis(np.array(values), 0, 1).reshape((r * k, d))\n",
    "output[-1] = logits @ values\n",
    "\n",
    "#print(hash(str(output)))\n",
    "print(output)"
   ]
  },
  {
   "cell_type": "code",
   "execution_count": null,
   "metadata": {},
   "outputs": [],
   "source": []
  }
 ],
 "metadata": {
  "kernelspec": {
   "display_name": "Python 3",
   "language": "python",
   "name": "python3"
  },
  "language_info": {
   "codemirror_mode": {
    "name": "ipython",
    "version": 3
   },
   "file_extension": ".py",
   "mimetype": "text/x-python",
   "name": "python",
   "nbconvert_exporter": "python",
   "pygments_lexer": "ipython3",
   "version": "3.7.9"
  }
 },
 "nbformat": 4,
 "nbformat_minor": 4
}
