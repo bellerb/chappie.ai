{
 "cells": [
  {
   "cell_type": "markdown",
   "id": "a2b642db-90aa-4d4a-b002-59f121ae37aa",
   "metadata": {
    "tags": []
   },
   "source": [
    "# Evaluating Bot Performance (Chess)"
   ]
  },
  {
   "cell_type": "code",
   "execution_count": 15,
   "id": "f07bcc06-9c17-4969-a0e4-7a01190dfc74",
   "metadata": {},
   "outputs": [],
   "source": [
    "def update_ELO(p1, p2, k = 32):\n",
    "    \"\"\"\n",
    "    Input: p1 - float representing the winning players current ELO\n",
    "           p2 - float representing the loosing players current ELO\n",
    "           k - integer representing ELO hyperparameter (default = 32) [OPTIONAL]\n",
    "    Description: update players ELO after game\n",
    "    Output: tuple containing updated player 1 and player 2 ELO\n",
    "    \"\"\"\n",
    "    R_p1 = 10 ** (p1 / 400)\n",
    "    R_p2 = 10 ** (p2 / 400)\n",
    "    \n",
    "    E_p1 = R_p1 / (R_p1 + R_p2)\n",
    "    E_p2 = R_p2 / (R_p2 + R_p1)\n",
    "    \n",
    "    S_p1 = 1\n",
    "    S_p2 = 0\n",
    "    \n",
    "    ELO_p1 = p1 + (k * (S_p1 - E_p1))\n",
    "    ELO_p2 = p2 + (k * (S_p2 - E_p2))\n",
    "    return (ELO_p1, ELO_p2)"
   ]
  },
  {
   "cell_type": "code",
   "execution_count": 16,
   "id": "10a7cda2-0af1-402c-be1d-c3df61cbc212",
   "metadata": {},
   "outputs": [
    {
     "name": "stdout",
     "output_type": "stream",
     "text": [
      "\n",
      "P1 ELO = 0.7363067935219902\n",
      "P2 ELO = -16.736306793521994\n",
      "\n"
     ]
    }
   ],
   "source": [
    "p1 = -16\n",
    "p2 = 0\n",
    "\n",
    "ELO = update_ELO(p1, p2)\n",
    "print(\n",
    "f'''\n",
    "P1 ELO = {ELO[0]}\n",
    "P2 ELO = {ELO[1]}\n",
    "'''\n",
    ")"
   ]
  },
  {
   "cell_type": "code",
   "execution_count": null,
   "id": "b4546054-2e18-49c5-a93d-616f729b0028",
   "metadata": {},
   "outputs": [],
   "source": []
  }
 ],
 "metadata": {
  "kernelspec": {
   "display_name": "Python 3 (ipykernel)",
   "language": "python",
   "name": "python3"
  },
  "language_info": {
   "codemirror_mode": {
    "name": "ipython",
    "version": 3
   },
   "file_extension": ".py",
   "mimetype": "text/x-python",
   "name": "python",
   "nbconvert_exporter": "python",
   "pygments_lexer": "ipython3",
   "version": "3.8.2"
  }
 },
 "nbformat": 4,
 "nbformat_minor": 5
}
